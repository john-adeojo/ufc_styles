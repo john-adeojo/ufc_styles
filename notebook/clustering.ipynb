{
 "cells": [
  {
   "cell_type": "code",
   "execution_count": 8,
   "id": "7cc55fe4-b857-4129-9a83-7a218adfa95a",
   "metadata": {
    "tags": []
   },
   "outputs": [
    {
     "name": "stdout",
     "output_type": "stream",
     "text": [
      "Data loaded successfully:\n"
     ]
    }
   ],
   "source": [
    "import requests\n",
    "import json\n",
    "\n",
    "# Replace the URL below with the URL of your JSON file on GitHub (use the raw content URL)\n",
    "url = 'https://github.com/john-adeojo/ufc_styles/raw/main/data/02_intermediate/cols.json'\n",
    "\n",
    "# Fetch the JSON file content\n",
    "response = requests.get(url)\n",
    "\n",
    "# Check if the request was successful (HTTP status code 200)\n",
    "if response.status_code == 200:\n",
    "    try:\n",
    "        # Load the content into a list\n",
    "        data_list = json.loads(response.text)\n",
    "        print(\"Data loaded successfully:\")\n",
    "    except json.JSONDecodeError as e:\n",
    "        print(f\"Failed to decode JSON: {e}\")\n",
    "else:\n",
    "    print(f\"Failed to fetch JSON file: {response.status_code}\")\n",
    "    \n",
    "fighters = pd.read_csv()\n"
   ]
  },
  {
   "cell_type": "code",
   "execution_count": 6,
   "id": "a77e2642-8c0f-4285-9897-4ad0af6c6351",
   "metadata": {
    "tags": []
   },
   "outputs": [
    {
     "ename": "NameError",
     "evalue": "name 'data_list' is not defined",
     "output_type": "error",
     "traceback": [
      "\u001b[1;31m---------------------------------------------------------------------------\u001b[0m",
      "\u001b[1;31mNameError\u001b[0m                                 Traceback (most recent call last)",
      "Cell \u001b[1;32mIn[6], line 1\u001b[0m\n\u001b[1;32m----> 1\u001b[0m \u001b[43mdata_list\u001b[49m\n",
      "\u001b[1;31mNameError\u001b[0m: name 'data_list' is not defined"
     ]
    }
   ],
   "source": [
    "data_list"
   ]
  },
  {
   "cell_type": "code",
   "execution_count": null,
   "id": "57b9dd62-cdc3-4b59-b4c9-9e69c76c1ad0",
   "metadata": {},
   "outputs": [],
   "source": []
  }
 ],
 "metadata": {
  "kernelspec": {
   "display_name": "Python 3 (ipykernel)",
   "language": "python",
   "name": "python3"
  },
  "language_info": {
   "codemirror_mode": {
    "name": "ipython",
    "version": 3
   },
   "file_extension": ".py",
   "mimetype": "text/x-python",
   "name": "python",
   "nbconvert_exporter": "python",
   "pygments_lexer": "ipython3",
   "version": "3.9.16"
  }
 },
 "nbformat": 4,
 "nbformat_minor": 5
}
