{
 "cells": [
  {
   "cell_type": "code",
   "execution_count": 14,
   "id": "7cc55fe4-b857-4129-9a83-7a218adfa95a",
   "metadata": {
    "tags": []
   },
   "outputs": [
    {
     "name": "stdout",
     "output_type": "stream",
     "text": [
      "Data loaded successfully:\n"
     ]
    }
   ],
   "source": [
    "import requests\n",
    "import json\n",
    "import pandas as pd\n",
    "\n",
    "\n",
    "# import style dims\n",
    "url = 'https://raw.githubusercontent.com/john-adeojo/ufc_styles/main/data/02_intermediate/style_dims.json'\n",
    "\n",
    "# Fetch the JSON file content\n",
    "response = requests.get(url)\n",
    "\n",
    "# Check if the request was successful (HTTP status code 200)\n",
    "if response.status_code == 200:\n",
    "    try:\n",
    "        # Load the content into a list\n",
    "        style_dims = json.loads(response.text)\n",
    "        print(\"Data loaded successfully:\")\n",
    "    except json.JSONDecodeError as e:\n",
    "        print(f\"Failed to decode JSON: {e}\")\n",
    "else:\n",
    "    print(f\"Failed to fetch JSON file: {response.status_code}\")\n",
    "\n",
    "# import fighter data\n",
    "fighter_df = pd.read_csv(r'https://github.com/john-adeojo/ufc_styles/blob/main/data/02_intermediate/fighter_data.csv?raw=true')"
   ]
  },
  {
   "cell_type": "code",
   "execution_count": null,
   "id": "a77e2642-8c0f-4285-9897-4ad0af6c6351",
   "metadata": {
    "tags": []
   },
   "outputs": [],
   "source": [
    "notebook_dir = os.path.dirname(os.path.abspath(\"__file__\"))\n",
    "project_dir = os.path.dirname(notebook_dir)\n",
    "\n",
    "if project_dir not in sys.path:\n",
    "    sys.path.append(project_dir)\n"
   ]
  },
  {
   "cell_type": "code",
   "execution_count": null,
   "id": "57b9dd62-cdc3-4b59-b4c9-9e69c76c1ad0",
   "metadata": {},
   "outputs": [],
   "source": [
    "from scripts.cluster import "
   ]
  }
 ],
 "metadata": {
  "kernelspec": {
   "display_name": "Python 3 (ipykernel)",
   "language": "python",
   "name": "python3"
  },
  "language_info": {
   "codemirror_mode": {
    "name": "ipython",
    "version": 3
   },
   "file_extension": ".py",
   "mimetype": "text/x-python",
   "name": "python",
   "nbconvert_exporter": "python",
   "pygments_lexer": "ipython3",
   "version": "3.9.16"
  }
 },
 "nbformat": 4,
 "nbformat_minor": 5
}
