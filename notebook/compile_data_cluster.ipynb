{
 "cells": [
  {
   "cell_type": "code",
   "execution_count": 1,
   "id": "c105daa5-e276-433a-9dc0-41b286a10074",
   "metadata": {
    "tags": []
   },
   "outputs": [],
   "source": [
    "import os\n",
    "import pandas as pd\n",
    "import requests\n",
    "from io import StringIO\n",
    "\n",
    "# Set your GitHub username, repository name, and path to the directory\n",
    "username = 'john-adeojo'\n",
    "repository = 'ufc_styles'\n",
    "directory_path = 'data/02_intermediate'\n",
    "\n",
    "# Generate the GitHub API URL for the repository contents\n",
    "api_url = f'https://api.github.com/repos/{username}/{repository}/contents/{directory_path}'\n",
    "\n",
    "# Fetch the list of files in the GitHub repository\n",
    "response = requests.get(api_url)\n",
    "files = response.json()\n",
    "\n",
    "all_fighter_clusters = pd.DataFrame()\n",
    "\n",
    "for file in files:\n",
    "    file_name = file['name']\n",
    "    if file_name.startswith('fighter_cluster') and file_name.endswith('.csv'):\n",
    "        file_url = file['download_url']\n",
    "        response = requests.get(file_url)\n",
    "        csv_data = StringIO(response.text)\n",
    "        \n",
    "        df = pd.read_csv(csv_data)\n",
    "        all_fighter_clusters = pd.concat([all_fighter_clusters, df], ignore_index=True)\n",
    "\n",
    "# Display the DataFrame\n",
    "all_fighter_clusters\n",
    "\n",
    "all_fighter_clusters.to_csv(r\"C:\\Users\\johna\\anaconda3\\envs\\ufc-env\\ufc_styles\\data\\02_intermediate\\all_fighter_clusters.csv\", index=False)\n"
   ]
  },
  {
   "cell_type": "code",
   "execution_count": null,
   "id": "57cf0bf9-a267-48a0-a991-be2fc4626ed1",
   "metadata": {},
   "outputs": [],
   "source": []
  }
 ],
 "metadata": {
  "kernelspec": {
   "display_name": "Python 3 (ipykernel)",
   "language": "python",
   "name": "python3"
  },
  "language_info": {
   "codemirror_mode": {
    "name": "ipython",
    "version": 3
   },
   "file_extension": ".py",
   "mimetype": "text/x-python",
   "name": "python",
   "nbconvert_exporter": "python",
   "pygments_lexer": "ipython3",
   "version": "3.9.16"
  }
 },
 "nbformat": 4,
 "nbformat_minor": 5
}
