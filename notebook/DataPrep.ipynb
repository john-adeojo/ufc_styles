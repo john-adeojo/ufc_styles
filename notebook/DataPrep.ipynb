{
 "cells": [
  {
   "cell_type": "code",
   "execution_count": 1,
   "id": "a8e6f5e8-b677-4903-8cee-2ab6c069f53c",
   "metadata": {
    "tags": []
   },
   "outputs": [],
   "source": [
    "import pandas as pd"
   ]
  },
  {
   "cell_type": "code",
   "execution_count": null,
   "id": "a59ccc9d-d80d-408f-82d2-71f7b4b74e0c",
   "metadata": {
    "tags": []
   },
   "outputs": [],
   "source": [
    "df_raw = pd.read_csv(\"https://github.com/john-adeojo/ufc_styles/blob/main/data/01_raw/data.csv?raw=true\")\n",
    "df_results = pd.read_csv(\"https://github.com/john-adeojo/ufc_styles/blob/main/data/01_raw/masterdataframe_results.csv?raw=true\")\n",
    "df_results = df_results[['date', 'fighter', 'result', 'method']]\n",
    "df_results.loc[df_results['method'] == 'DRAW', 'result'] = 2\n",
    "df_results.loc[df_results['result'] == 2, 'result'] = 'Draw'\n",
    "df_results.loc[df_results['result'] == 0, 'result'] = 'Loss'\n",
    "df_results.loc[df_results['result'] == 1, 'result'] = 'Win'\n",
    "\n",
    "\n",
    "df_raw['date'] = pd.to_datetime(df_raw['date'], format='%Y-%m-%d')\n",
    "df_results['date'] = pd.to_datetime(df_results['date'], format='%Y-%m-%d')"
   ]
  },
  {
   "cell_type": "code",
   "execution_count": null,
   "id": "d9804e7c-f1bb-4e2d-85be-4499d971ae9d",
   "metadata": {
    "tags": []
   },
   "outputs": [],
   "source": [
    "cols = list(df_raw.columns)"
   ]
  },
  {
   "cell_type": "code",
   "execution_count": null,
   "id": "6b9c990f-b297-406c-a080-8d6f9e160f24",
   "metadata": {
    "tags": []
   },
   "outputs": [],
   "source": [
    "df_B = df_raw[[\"R_fighter\", \"B_fighter\", \"date\", \"Winner\", \"weight_class\", \"B_avg_KD\", \"B_avg_opp_KD\", \"B_avg_SUB_ATT\", \"B_avg_opp_SUB_ATT\", \"B_avg_REV\", \"B_avg_opp_REV\", \"B_avg_SIG_STR_att\", \"B_avg_SIG_STR_landed\", \"B_avg_opp_SIG_STR_att\", \"B_avg_opp_SIG_STR_landed\", \"B_avg_TOTAL_STR_att\", \"B_avg_TOTAL_STR_landed\", \"B_avg_opp_TOTAL_STR_att\", \"B_avg_opp_TOTAL_STR_landed\", \"B_avg_TD_att\", \"B_avg_TD_landed\", \"B_avg_opp_TD_att\", \"B_avg_opp_TD_landed\", \"B_avg_HEAD_att\", \"B_avg_HEAD_landed\", \"B_avg_opp_HEAD_att\", \"B_avg_opp_HEAD_landed\", \"B_avg_BODY_att\", \"B_avg_BODY_landed\", \"B_avg_opp_BODY_att\", \"B_avg_opp_BODY_landed\", \"B_avg_LEG_att\", \"B_avg_LEG_landed\", \"B_avg_opp_LEG_att\", \"B_avg_opp_LEG_landed\", \"B_avg_DISTANCE_att\", \"B_avg_DISTANCE_landed\", \"B_avg_opp_DISTANCE_att\", \"B_avg_opp_DISTANCE_landed\", \"B_avg_CLINCH_att\", \"B_avg_CLINCH_landed\", \"B_avg_opp_CLINCH_att\", \"B_avg_opp_CLINCH_landed\", \"B_avg_GROUND_att\", \"B_avg_GROUND_landed\", \"B_avg_opp_GROUND_att\", \"B_avg_opp_GROUND_landed\", \"B_avg_CTRL_time(seconds)\", \"B_avg_opp_CTRL_time(seconds)\", \"B_total_time_fought(seconds)\", \"B_total_rounds_fought\", \"B_total_title_bouts\", \"B_current_win_streak\", \"B_current_lose_streak\", \"B_longest_win_streak\", \"B_wins\", \"B_losses\", \"B_draw\", \"B_win_by_Decision_Majority\", \"B_win_by_Decision_Split\", \"B_win_by_Decision_Unanimous\", \"B_win_by_KO/TKO\", \"B_win_by_Submission\", \"B_win_by_TKO_Doctor_Stoppage\", \"B_Stance\", \"B_Height_cms\", \"B_Reach_cms\", \"B_Weight_lbs\"]].copy()\n",
    "df_B['corner'] = 'Blue'\n",
    "\n",
    "# Remove the leading 'R_' from the column names\n",
    "df_B.columns = [col.replace('B_', '', 1) for col in df_B.columns]\n",
    "df_B.rename(columns={'fighter': 'B_fighter'}, inplace=True)\n",
    "df_B.loc[df_B['Winner'] == 'Blue', 'result'] = 'Win'\n",
    "df_B.loc[df_B['Winner'] == 'Red', 'result'] = 'Loss'\n",
    "df_B.loc[df_B['Winner'] == 'Draw', 'result'] = 'Draw'"
   ]
  },
  {
   "cell_type": "code",
   "execution_count": null,
   "id": "9fbf5726-63e2-471d-af7f-cd245710b7fd",
   "metadata": {
    "tags": []
   },
   "outputs": [],
   "source": [
    "df_R = df_raw[[\"R_fighter\", \"B_fighter\", \"date\", \"Winner\", \"weight_class\", \"R_avg_KD\", \"R_avg_opp_KD\", \"R_avg_SUB_ATT\", \"R_avg_opp_SUB_ATT\", \"R_avg_REV\", \"R_avg_opp_REV\", \"R_avg_SIG_STR_att\", \"R_avg_SIG_STR_landed\", \"R_avg_opp_SIG_STR_att\", \"R_avg_opp_SIG_STR_landed\", \"R_avg_TOTAL_STR_att\", \"R_avg_TOTAL_STR_landed\", \"R_avg_opp_TOTAL_STR_att\", \"R_avg_opp_TOTAL_STR_landed\", \"R_avg_TD_att\", \"R_avg_TD_landed\", \"R_avg_opp_TD_att\", \"R_avg_opp_TD_landed\", \"R_avg_HEAD_att\", \"R_avg_HEAD_landed\", \"R_avg_opp_HEAD_att\", \"R_avg_opp_HEAD_landed\", \"R_avg_BODY_att\", \"R_avg_BODY_landed\", \"R_avg_opp_BODY_att\", \"R_avg_opp_BODY_landed\", \"R_avg_LEG_att\", \"R_avg_LEG_landed\", \"R_avg_opp_LEG_att\", \"R_avg_opp_LEG_landed\", \"R_avg_DISTANCE_att\", \"R_avg_DISTANCE_landed\", \"R_avg_opp_DISTANCE_att\", \"R_avg_opp_DISTANCE_landed\", \"R_avg_CLINCH_att\", \"R_avg_CLINCH_landed\", \"R_avg_opp_CLINCH_att\", \"R_avg_opp_CLINCH_landed\", \"R_avg_GROUND_att\", \"R_avg_GROUND_landed\", \"R_avg_opp_GROUND_att\", \"R_avg_opp_GROUND_landed\", \"R_avg_CTRL_time(seconds)\", \"R_avg_opp_CTRL_time(seconds)\", \"R_total_time_fought(seconds)\", \"R_total_rounds_fought\", \"R_total_title_bouts\", \"R_current_win_streak\", \"R_current_lose_streak\", \"R_longest_win_streak\", \"R_wins\", \"R_losses\", \"R_draw\", \"R_win_by_Decision_Majority\", \"R_win_by_Decision_Split\", \"R_win_by_Decision_Unanimous\", \"R_win_by_KO/TKO\", \"R_win_by_Submission\", \"R_win_by_TKO_Doctor_Stoppage\", \"R_Stance\", \"R_Height_cms\", \"R_Reach_cms\", \"R_Weight_lbs\"]].copy()\n",
    "df_R['corner'] = 'Red'\n",
    "\n",
    "# Remove the leading 'R_' from the column names\n",
    "df_R.columns = [col.replace('R_', '', 1) for col in df_R.columns]\n",
    "df_R.rename(columns={'fighter': 'R_fighter'}, inplace=True)\n",
    "df_R.loc[df_R['Winner'] == 'Red', 'result'] = 'Win'\n",
    "df_R.loc[df_R['Winner'] == 'Blue', 'result'] = 'Loss'\n",
    "df_R.loc[df_R['Winner'] == 'Draw', 'result'] = 'Draw'"
   ]
  },
  {
   "cell_type": "code",
   "execution_count": null,
   "id": "0de5271f-f7e3-44f4-aa59-7de924a0005f",
   "metadata": {
    "tags": []
   },
   "outputs": [],
   "source": [
    "df_all = result_df = pd.concat([df_B, df_R], ignore_index=True)"
   ]
  },
  {
   "cell_type": "code",
   "execution_count": null,
   "id": "60b06d15-3409-4c61-b9e8-edf3c0cd750d",
   "metadata": {
    "tags": []
   },
   "outputs": [],
   "source": [
    "# df_all['Fighter_dims'] = df_all['R_fighter']\n",
    "# df_all['Opponent'] = df_all['B_fighter']\n",
    "\n",
    "df_all.loc[df_all['corner'] == 'Red', 'Fighter_dims'] = df_all['R_fighter']\n",
    "df_all.loc[df_all['corner'] == 'Blue', 'Fighter_dims'] = df_all['B_fighter']\n",
    "df_all.loc[df_all['corner'] == 'Red', 'Opponent'] = df_all['B_fighter']\n",
    "df_all.loc[df_all['corner'] == 'Blue', 'Opponent'] = df_all['R_fighter']\n",
    "# df_all[['Height_cms', 'R_fighter', 'B_fighter']]"
   ]
  },
  {
   "cell_type": "code",
   "execution_count": null,
   "id": "26facee8-d062-4839-9ac8-a55244bf0461",
   "metadata": {
    "tags": []
   },
   "outputs": [],
   "source": [
    "from sklearn.preprocessing import OneHotEncoder\n",
    "\n",
    "encoder = OneHotEncoder(sparse=False)\n",
    "\n",
    "# Fit and transform the 'Stance' column, reshape the result to 2D array\n",
    "stance_onehot = encoder.fit_transform(df_all['Stance'].values.reshape(-1, 1))\n",
    "\n",
    "# Create a DataFrame from the one-hot encoded array, with column names derived from the encoder\n",
    "stance_df = pd.DataFrame(stance_onehot, columns=encoder.get_feature_names_out(['Stance']))\n",
    "\n",
    "# Concatenate the one-hot encoded columns to the original dataframe\n",
    "df_all = pd.concat([df_all.reset_index(drop=True), stance_df], axis=1)\n",
    "\n",
    "# Drop the original 'Stance' column (optional)\n",
    "df_all = df_all.drop('Stance', axis=1)\n",
    "df_all = df_all.dropna()\n",
    "df_all"
   ]
  },
  {
   "cell_type": "code",
   "execution_count": null,
   "id": "e6dc6161-508b-4c56-bf7b-a6b3e7cf1aa8",
   "metadata": {
    "tags": []
   },
   "outputs": [],
   "source": [
    "div_columns = [\"avg_KD\", \"avg_opp_KD\", \"avg_SUB_ATT\", \"avg_opp_SUB_ATT\", \"avg_REV\", \"avg_opp_REV\", \"avg_SIG_STR_att\", \"avg_SIG_STR_landed\", \"avg_opp_SIG_STR_att\", \"avg_opp_SIG_STR_landed\", \"avg_TOTAL_STR_att\", \"avg_TOTAL_STR_landed\", \"avg_opp_TOTAL_STR_att\", \"avg_opp_TOTAL_STR_landed\", \"avg_TD_att\", \"avg_TD_landed\", \"avg_opp_TD_att\", \"avg_opp_TD_landed\", \"avg_HEAD_att\", \"avg_HEAD_landed\", \"avg_opp_HEAD_att\", \"avg_opp_HEAD_landed\", \"avg_BODY_att\", \"avg_BODY_landed\", \"avg_opp_BODY_att\", \"avg_opp_BODY_landed\", \"avg_LEG_att\", \"avg_LEG_landed\", \"avg_opp_LEG_att\", \"avg_opp_LEG_landed\", \"avg_DISTANCE_att\", \"avg_DISTANCE_landed\", \"avg_opp_DISTANCE_att\", \"avg_opp_DISTANCE_landed\", \"avg_CLINCH_att\", \"avg_CLINCH_landed\", \"avg_opp_CLINCH_att\", \"avg_opp_CLINCH_landed\", \"avg_GROUND_att\", \"avg_GROUND_landed\", \"avg_opp_GROUND_att\", \"avg_opp_GROUND_landed\", \"avg_CTRL_time(seconds)\", \"avg_opp_CTRL_time(seconds)\"]\n",
    "\n",
    "for col in div_columns:\n",
    "    df_all[col] = df_all[col] / df_all[\"total_time_fought(seconds)\"]\n",
    "    "
   ]
  },
  {
   "cell_type": "code",
   "execution_count": null,
   "id": "fe6f5e0d-d2f1-4252-a9d5-dfd9e00cd581",
   "metadata": {
    "tags": []
   },
   "outputs": [],
   "source": [
    "div_columns.extend(['Stance_Open Stance', 'Stance_Orthodox',\t'Stance_Sideways',\t'Stance_Southpaw',\t'Stance_Switch'])"
   ]
  },
  {
   "cell_type": "code",
   "execution_count": null,
   "id": "d8643990-e309-40cd-845b-e1573a0e3510",
   "metadata": {
    "tags": []
   },
   "outputs": [],
   "source": [
    "import numpy as np\n",
    "from scipy import stats\n",
    "\n",
    "# Define the columns you want to aggregate using the mode\n",
    "mode_columns = ['Stance_Open Stance', 'Stance_Orthodox', 'Stance_Sideways', 'Stance_Southpaw', 'Stance_Switch']\n",
    "\n",
    "# Custom function to calculate mode\n",
    "def custom_mode(x):\n",
    "    return stats.mode(x)[0][0]\n",
    "\n",
    "# Create a dictionary with columns as keys and aggregation functions as values\n",
    "agg_functions = {col: 'mean' if col not in mode_columns else custom_mode for col in div_columns}\n",
    "\n",
    "# Perform the aggregation\n",
    "fighters_styles_dims = df_all.groupby(['Fighter_dims', 'weight_class']).agg(agg_functions).reset_index()\n",
    "\n",
    "fighter_sytles_dims_names = list(fighters_styles_dims.drop(columns=['Fighter_dims', 'weight_class']))"
   ]
  },
  {
   "cell_type": "code",
   "execution_count": null,
   "id": "804e7ec2-17fc-4c76-b89d-e192dfb43846",
   "metadata": {},
   "outputs": [],
   "source": [
    "df_all2 = df_all.merge(right = df_results, how='inner', right_on=['date', 'fighter', 'result'], left_on=['date', 'Fighter_dims', 'result'])\n",
    "df_all2['fighter_result'] = df_all2['result'] + ' by ' + df_all2['method']\n",
    "df_all2"
   ]
  },
  {
   "cell_type": "code",
   "execution_count": null,
   "id": "e8651ebd-c800-4d29-90f1-0194d96ab2d6",
   "metadata": {
    "tags": []
   },
   "outputs": [],
   "source": [
    "import json\n",
    "with open(r\"C:\\Users\\johna\\anaconda3\\envs\\ufc-env\\ufc_styles\\data\\02_intermediate\\style_dims_names.json\", 'w') as file:\n",
    "    json.dump(fighter_sytles_dims_names, file)\n",
    "    \n",
    "df_all2.to_csv(r\"C:\\Users\\johna\\anaconda3\\envs\\ufc-env\\ufc_styles\\data\\02_intermediate\\fighter_data.csv\", index=False)\n",
    "fighters_styles_dims.to_csv(r\"C:\\Users\\johna\\anaconda3\\envs\\ufc-env\\ufc_styles\\data\\02_intermediate\\fighters_styles_dims.csv\", index=False)"
   ]
  },
  {
   "cell_type": "code",
   "execution_count": null,
   "id": "ad870738-10c7-4469-aefe-ceca18094bf4",
   "metadata": {},
   "outputs": [],
   "source": []
  }
 ],
 "metadata": {
  "kernelspec": {
   "display_name": "Python 3 (ipykernel)",
   "language": "python",
   "name": "python3"
  },
  "language_info": {
   "codemirror_mode": {
    "name": "ipython",
    "version": 3
   },
   "file_extension": ".py",
   "mimetype": "text/x-python",
   "name": "python",
   "nbconvert_exporter": "python",
   "pygments_lexer": "ipython3",
   "version": "3.9.16"
  }
 },
 "nbformat": 4,
 "nbformat_minor": 5
}
