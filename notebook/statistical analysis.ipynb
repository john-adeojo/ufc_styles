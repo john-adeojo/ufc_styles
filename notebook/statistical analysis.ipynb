{
 "cells": [
  {
   "cell_type": "code",
   "execution_count": 54,
   "id": "d060f428-717b-471c-9f4d-ff5b5193930d",
   "metadata": {
    "tags": []
   },
   "outputs": [],
   "source": [
    "import os\n",
    "import sys\n",
    "notebook_dir = os.path.dirname(os.path.abspath(\"__file__\"))\n",
    "project_dir = os.path.dirname(notebook_dir)\n",
    "\n",
    "if project_dir not in sys.path:\n",
    "    sys.path.append(project_dir)\n",
    "\n",
    "import pandas as pd\n",
    "import numpy as np"
   ]
  },
  {
   "cell_type": "code",
   "execution_count": 63,
   "id": "9cff3115-a817-4c80-b08e-696764bebceb",
   "metadata": {
    "scrolled": true,
    "tags": []
   },
   "outputs": [],
   "source": [
    "all_fighter_cluster = pd.read_csv(r\"https://github.com/john-adeojo/ufc_styles/blob/main/data/02_intermediate/all_fighter_clusters.csv?raw=true\")\n",
    "fighter_data = pd.read_csv(r\"https://github.com/john-adeojo/ufc_styles/blob/main/data/02_intermediate/fighter_data.csv?raw=true\")"
   ]
  },
  {
   "cell_type": "code",
   "execution_count": 64,
   "id": "07446ad6-77f2-42e3-bd79-81c28c2be7b5",
   "metadata": {
    "tags": []
   },
   "outputs": [
    {
     "data": {
      "text/plain": [
       "2_Welterweight           196\n",
       "2_Lightweight            191\n",
       "2_Middleweight           146\n",
       "1_Featherweight          140\n",
       "2_Bantamweight           121\n",
       "1_LightHeavyweight       117\n",
       "1_Heavyweight            108\n",
       "1_WomenStrawweight        64\n",
       "0_Lightweight             60\n",
       "2_Flyweight               56\n",
       "1_Welterweight            53\n",
       "0_Middleweight            53\n",
       "1_WomenFlyweight          51\n",
       "1_CatchWeight             39\n",
       "2_Featherweight           35\n",
       "0_Bantamweight            30\n",
       "1_OpenWeight              27\n",
       "0_LightHeavyweight        21\n",
       "0_WomenBantamweight       19\n",
       "0_Welterweight            19\n",
       "0_Flyweight               18\n",
       "-1_WomenBantamweight      16\n",
       "0_Heavyweight             14\n",
       "0_Featherweight           14\n",
       "-1_WomenFeatherweight     13\n",
       "1_Bantamweight            13\n",
       "1_WomenBantamweight       12\n",
       "1_Lightweight             12\n",
       "0_CatchWeight             12\n",
       "0_WomenFlyweight          10\n",
       "1_Flyweight                8\n",
       "0_OpenWeight               7\n",
       "1_Middleweight             7\n",
       "0_WomenStrawweight         7\n",
       "Name: specific_cluster, dtype: int64"
      ]
     },
     "execution_count": 64,
     "metadata": {},
     "output_type": "execute_result"
    }
   ],
   "source": [
    "all_fighter_cluster['specific_cluster'].value_counts()"
   ]
  },
  {
   "cell_type": "code",
   "execution_count": 56,
   "id": "1c3ba76c-9094-45df-8d44-45d14b424a02",
   "metadata": {
    "tags": []
   },
   "outputs": [
    {
     "data": {
      "text/html": [
       "<div>\n",
       "<style scoped>\n",
       "    .dataframe tbody tr th:only-of-type {\n",
       "        vertical-align: middle;\n",
       "    }\n",
       "\n",
       "    .dataframe tbody tr th {\n",
       "        vertical-align: top;\n",
       "    }\n",
       "\n",
       "    .dataframe thead th {\n",
       "        text-align: right;\n",
       "    }\n",
       "</style>\n",
       "<table border=\"1\" class=\"dataframe\">\n",
       "  <thead>\n",
       "    <tr style=\"text-align: right;\">\n",
       "      <th></th>\n",
       "      <th>Unnamed: 0</th>\n",
       "      <th>R_fighter</th>\n",
       "      <th>B_fighter</th>\n",
       "      <th>date</th>\n",
       "      <th>Winner</th>\n",
       "      <th>weight_class</th>\n",
       "      <th>avg_KD</th>\n",
       "      <th>avg_opp_KD</th>\n",
       "      <th>avg_SUB_ATT</th>\n",
       "      <th>avg_opp_SUB_ATT</th>\n",
       "      <th>...</th>\n",
       "      <th>Stance_Southpaw</th>\n",
       "      <th>Stance_Switch</th>\n",
       "      <th>Stance_nan</th>\n",
       "      <th>fighter</th>\n",
       "      <th>method</th>\n",
       "      <th>fighter_result</th>\n",
       "      <th>cluster</th>\n",
       "      <th>specific_cluster</th>\n",
       "      <th>Fighter_dims_y</th>\n",
       "      <th>opp_specific_cluster</th>\n",
       "    </tr>\n",
       "  </thead>\n",
       "  <tbody>\n",
       "  </tbody>\n",
       "</table>\n",
       "<p>0 rows × 84 columns</p>\n",
       "</div>"
      ],
      "text/plain": [
       "Empty DataFrame\n",
       "Columns: [Unnamed: 0, R_fighter, B_fighter, date, Winner, weight_class, avg_KD, avg_opp_KD, avg_SUB_ATT, avg_opp_SUB_ATT, avg_REV, avg_opp_REV, avg_SIG_STR_att, avg_SIG_STR_landed, avg_opp_SIG_STR_att, avg_opp_SIG_STR_landed, avg_TOTAL_STR_att, avg_TOTAL_STR_landed, avg_opp_TOTAL_STR_att, avg_opp_TOTAL_STR_landed, avg_TD_att, avg_TD_landed, avg_opp_TD_att, avg_opp_TD_landed, avg_HEAD_att, avg_HEAD_landed, avg_opp_HEAD_att, avg_opp_HEAD_landed, avg_BODY_att, avg_BODY_landed, avg_opp_BODY_att, avg_opp_BODY_landed, avg_LEG_att, avg_LEG_landed, avg_opp_LEG_att, avg_opp_LEG_landed, avg_DISTANCE_att, avg_DISTANCE_landed, avg_opp_DISTANCE_att, avg_opp_DISTANCE_landed, avg_CLINCH_att, avg_CLINCH_landed, avg_opp_CLINCH_att, avg_opp_CLINCH_landed, avg_GROUND_att, avg_GROUND_landed, avg_opp_GROUND_att, avg_opp_GROUND_landed, avg_CTRL_time(seconds), avg_opp_CTRL_time(seconds), total_time_fought(seconds), total_rounds_fought, total_title_bouts, current_win_streak, current_lose_streak, longest_win_streak, wins, losses, draw, win_by_Decision_Majority, win_by_Decision_Split, win_by_Decision_Unanimous, win_by_KO/TKO, win_by_Submission, win_by_TKO_Doctor_Stoppage, Height_cms, Reach_cms, Weight_lbs, result, Fighter_dims_x, Opponent, Stance_Open Stance, Stance_Orthodox, Stance_Sideways, Stance_Southpaw, Stance_Switch, Stance_nan, fighter, method, fighter_result, cluster, specific_cluster, Fighter_dims_y, opp_specific_cluster]\n",
       "Index: []\n",
       "\n",
       "[0 rows x 84 columns]"
      ]
     },
     "execution_count": 56,
     "metadata": {},
     "output_type": "execute_result"
    }
   ],
   "source": [
    "analysis_data_base = fighter_data.merge(right=all_fighter_cluster[['cluster','specific_cluster', 'Fighter_dims', 'weight_class']], how='left', left_on=['Fighter_dims', 'weight_class'], right_on=['Fighter_dims', 'weight_class'])\n",
    "analysis_data_base = analysis_data_base.dropna(subset=['cluster'])\n",
    "analysis_data_opp = analysis_data_base.copy()\n",
    "analysis_data_opp['opp_specific_cluster'] = analysis_data_opp['specific_cluster']\n",
    "analysis_data = analysis_data_base.merge(right=analysis_data_opp[['weight_class', 'Fighter_dims', 'date', 'opp_specific_cluster']], how='inner', left_on=['weight_class', 'Opponent', 'date'], right_on=['weight_class', 'Fighter_dims', 'date'] )\n",
    "analysis_data_opposing_styles = analysis_data.loc[analysis_data['opp_specific_cluster'] != analysis_data['specific_cluster']].copy()\n",
    "analysis_data_opposing_styles.head()"
   ]
  },
  {
   "cell_type": "code",
   "execution_count": 39,
   "id": "3c14835c-5e04-4393-910d-4a9339566203",
   "metadata": {
    "tags": []
   },
   "outputs": [],
   "source": [
    "import pandas as pd\n",
    "\n",
    "# Assuming your DataFrame is named 'analysis_data_opposing_styles'\n",
    "# and the columns to combine are 'specific_cluster' and 'opp_specific_cluster'\n",
    "\n",
    "def create_style_matchup(row):\n",
    "    # Combine the two columns and sort them alphabetically\n",
    "    matchup = sorted([row['specific_cluster'], row['opp_specific_cluster']])\n",
    "    \n",
    "    # Join them with ' vs. ' and return the result\n",
    "    return matchup[0] + ' vs. ' + matchup[1]\n",
    "\n",
    "# Apply the custom function to each row and create the new 'style_matchup' column\n",
    "analysis_data_opposing_styles['style_matchup'] = analysis_data_opposing_styles.apply(create_style_matchup, axis=1)\n",
    "\n",
    "# Display the DataFrame\n",
    "analysis_data_opposing_styles.sort_values(by='weight_class', inplace=True)\n"
   ]
  },
  {
   "cell_type": "code",
   "execution_count": 40,
   "id": "a82210f2-ca10-423d-a2b3-6ae0967daa15",
   "metadata": {
    "tags": []
   },
   "outputs": [
    {
     "data": {
      "text/plain": [
       "1_Lightweight vs. 2_Lightweight                558\n",
       "1_Welterweight vs. 2_Welterweight              460\n",
       "1_Middleweight vs. 2_Middleweight              424\n",
       "1_LightHeavyweight vs. 2_LightHeavyweight      228\n",
       "0_Featherweight vs. 2_Featherweight            202\n",
       "1_Bantamweight vs. 3_Bantamweight              170\n",
       "1_Heavyweight vs. 2_Heavyweight                152\n",
       "0_Flyweight vs. 2_Flyweight                    134\n",
       "0_Featherweight vs. 1_Featherweight            114\n",
       "0_Welterweight vs. 2_Welterweight              100\n",
       "0_Bantamweight vs. 3_Bantamweight               94\n",
       "0_WomenFlyweight vs. 1_WomenFlyweight           84\n",
       "0_Lightweight vs. 2_Lightweight                 70\n",
       "0_WomenStrawweight vs. 1_WomenStrawweight       58\n",
       "0_Welterweight vs. 1_Welterweight               54\n",
       "0_Middleweight vs. 2_Middleweight               48\n",
       "0_WomenBantamweight vs. 1_WomenBantamweight     44\n",
       "0_Lightweight vs. 1_Lightweight                 42\n",
       "0_Middleweight vs. 1_Middleweight               30\n",
       "0_Heavyweight vs. 2_Heavyweight                 28\n",
       "1_Flyweight vs. 2_Flyweight                     28\n",
       "0_CatchWeight vs. 2_CatchWeight                 26\n",
       "0_Bantamweight vs. 1_Bantamweight               22\n",
       "0_LightHeavyweight vs. 1_LightHeavyweight       16\n",
       "0_Flyweight vs. 1_Flyweight                     14\n",
       "1_Featherweight vs. 2_Featherweight             12\n",
       "0_LightHeavyweight vs. 2_LightHeavyweight       10\n",
       "0_CatchWeight vs. 1_CatchWeight                  8\n",
       "1_CatchWeight vs. 2_CatchWeight                  4\n",
       "0_Heavyweight vs. 1_Heavyweight                  2\n",
       "Name: style_matchup, dtype: int64"
      ]
     },
     "execution_count": 40,
     "metadata": {},
     "output_type": "execute_result"
    }
   ],
   "source": [
    "analysis_data_opposing_styles['style_matchup'].value_counts()"
   ]
  },
  {
   "cell_type": "code",
   "execution_count": null,
   "id": "e6c17588-d99c-447b-8fdb-c61cac2760cc",
   "metadata": {},
   "outputs": [],
   "source": [
    "from scripts.chisquareanalysis import ChiSquareAnalysis\n",
    "\n",
    "# Assuming you have a DataFrame named 'data'\n",
    "analysis = ChiSquareAnalysis(analysis_data)\n",
    "result = analysis.run_chisquare_analysis('variable_name')  # Replace 'variable_name' with the actual variable name\n",
    "\n"
   ]
  }
 ],
 "metadata": {
  "kernelspec": {
   "display_name": "Python 3 (ipykernel)",
   "language": "python",
   "name": "python3"
  },
  "language_info": {
   "codemirror_mode": {
    "name": "ipython",
    "version": 3
   },
   "file_extension": ".py",
   "mimetype": "text/x-python",
   "name": "python",
   "nbconvert_exporter": "python",
   "pygments_lexer": "ipython3",
   "version": "3.9.16"
  }
 },
 "nbformat": 4,
 "nbformat_minor": 5
}
