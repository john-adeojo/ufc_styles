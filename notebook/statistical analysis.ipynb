{
 "cells": [
  {
   "cell_type": "code",
   "execution_count": 1,
   "id": "d060f428-717b-471c-9f4d-ff5b5193930d",
   "metadata": {
    "tags": []
   },
   "outputs": [],
   "source": [
    "import os\n",
    "import sys\n",
    "notebook_dir = os.path.dirname(os.path.abspath(\"__file__\"))\n",
    "project_dir = os.path.dirname(notebook_dir)\n",
    "\n",
    "if project_dir not in sys.path:\n",
    "    sys.path.append(project_dir)\n",
    "\n",
    "import pandas as pd\n",
    "import numpy as np"
   ]
  },
  {
   "cell_type": "code",
   "execution_count": 2,
   "id": "9cff3115-a817-4c80-b08e-696764bebceb",
   "metadata": {
    "scrolled": true,
    "tags": []
   },
   "outputs": [],
   "source": [
    "all_fighter_cluster = pd.read_csv(r\"https://raw.githubusercontent.com/john-adeojo/ufc_styles/main/data/02_intermediate/all_fighter_clusters.csv\")\n",
    "fighter_data = pd.read_csv(r\"https://github.com/john-adeojo/ufc_styles/blob/main/data/02_intermediate/fighter_data.csv?raw=true\")\n",
    "# all_fighter_cluster.drop(columns='Unnamed: 0', inplace=True)"
   ]
  },
  {
   "cell_type": "code",
   "execution_count": 3,
   "id": "1c3ba76c-9094-45df-8d44-45d14b424a02",
   "metadata": {
    "tags": []
   },
   "outputs": [
    {
     "data": {
      "text/html": [
       "<div>\n",
       "<style scoped>\n",
       "    .dataframe tbody tr th:only-of-type {\n",
       "        vertical-align: middle;\n",
       "    }\n",
       "\n",
       "    .dataframe tbody tr th {\n",
       "        vertical-align: top;\n",
       "    }\n",
       "\n",
       "    .dataframe thead th {\n",
       "        text-align: right;\n",
       "    }\n",
       "</style>\n",
       "<table border=\"1\" class=\"dataframe\">\n",
       "  <thead>\n",
       "    <tr style=\"text-align: right;\">\n",
       "      <th></th>\n",
       "      <th>R_fighter</th>\n",
       "      <th>B_fighter</th>\n",
       "      <th>date</th>\n",
       "      <th>Winner</th>\n",
       "      <th>weight_class</th>\n",
       "      <th>avg_KD</th>\n",
       "      <th>avg_opp_KD</th>\n",
       "      <th>avg_SUB_ATT</th>\n",
       "      <th>avg_opp_SUB_ATT</th>\n",
       "      <th>avg_REV</th>\n",
       "      <th>...</th>\n",
       "      <th>Stance_Southpaw</th>\n",
       "      <th>Stance_Switch</th>\n",
       "      <th>Stance_nan</th>\n",
       "      <th>fighter</th>\n",
       "      <th>method</th>\n",
       "      <th>fighter_result</th>\n",
       "      <th>cluster</th>\n",
       "      <th>specific_cluster</th>\n",
       "      <th>Fighter_dims_y</th>\n",
       "      <th>opp_specific_cluster</th>\n",
       "    </tr>\n",
       "  </thead>\n",
       "  <tbody>\n",
       "    <tr>\n",
       "      <th>4</th>\n",
       "      <td>Arman Tsarukyan</td>\n",
       "      <td>Mateusz Gamrot</td>\n",
       "      <td>2022-06-25</td>\n",
       "      <td>Blue</td>\n",
       "      <td>Lightweight</td>\n",
       "      <td>0.000291</td>\n",
       "      <td>0.000291</td>\n",
       "      <td>0.000582</td>\n",
       "      <td>0.000000</td>\n",
       "      <td>0.000000</td>\n",
       "      <td>...</td>\n",
       "      <td>1.0</td>\n",
       "      <td>0.0</td>\n",
       "      <td>0.0</td>\n",
       "      <td>Mateusz Gamrot</td>\n",
       "      <td>U-DEC</td>\n",
       "      <td>Win by U-DEC</td>\n",
       "      <td>0.0</td>\n",
       "      <td>0_Lightweight</td>\n",
       "      <td>Arman Tsarukyan</td>\n",
       "      <td>2_Lightweight</td>\n",
       "    </tr>\n",
       "    <tr>\n",
       "      <th>6</th>\n",
       "      <td>Shayilan Nuerdanbieke</td>\n",
       "      <td>TJ Brown</td>\n",
       "      <td>2022-06-25</td>\n",
       "      <td>Red</td>\n",
       "      <td>Featherweight</td>\n",
       "      <td>0.000000</td>\n",
       "      <td>0.000293</td>\n",
       "      <td>0.002053</td>\n",
       "      <td>0.001027</td>\n",
       "      <td>0.001173</td>\n",
       "      <td>...</td>\n",
       "      <td>0.0</td>\n",
       "      <td>1.0</td>\n",
       "      <td>0.0</td>\n",
       "      <td>TJ Brown</td>\n",
       "      <td>U-DEC</td>\n",
       "      <td>Loss by U-DEC</td>\n",
       "      <td>0.0</td>\n",
       "      <td>0_Featherweight</td>\n",
       "      <td>Shayilan Nuerdanbieke</td>\n",
       "      <td>2_Featherweight</td>\n",
       "    </tr>\n",
       "    <tr>\n",
       "      <th>8</th>\n",
       "      <td>Vanessa Demopoulos</td>\n",
       "      <td>Jinh Yu Frey</td>\n",
       "      <td>2022-06-25</td>\n",
       "      <td>Red</td>\n",
       "      <td>WomenStrawweight</td>\n",
       "      <td>0.000000</td>\n",
       "      <td>0.000000</td>\n",
       "      <td>0.000568</td>\n",
       "      <td>0.000142</td>\n",
       "      <td>0.000000</td>\n",
       "      <td>...</td>\n",
       "      <td>1.0</td>\n",
       "      <td>0.0</td>\n",
       "      <td>0.0</td>\n",
       "      <td>Jinh Yu Frey</td>\n",
       "      <td>S-DEC</td>\n",
       "      <td>Loss by S-DEC</td>\n",
       "      <td>0.0</td>\n",
       "      <td>0_WomenStrawweight</td>\n",
       "      <td>Vanessa Demopoulos</td>\n",
       "      <td>1_WomenStrawweight</td>\n",
       "    </tr>\n",
       "    <tr>\n",
       "      <th>9</th>\n",
       "      <td>JP Buys</td>\n",
       "      <td>Cody Durden</td>\n",
       "      <td>2022-06-25</td>\n",
       "      <td>Blue</td>\n",
       "      <td>Flyweight</td>\n",
       "      <td>0.000000</td>\n",
       "      <td>0.001278</td>\n",
       "      <td>0.000319</td>\n",
       "      <td>0.001917</td>\n",
       "      <td>0.000000</td>\n",
       "      <td>...</td>\n",
       "      <td>1.0</td>\n",
       "      <td>0.0</td>\n",
       "      <td>0.0</td>\n",
       "      <td>Cody Durden</td>\n",
       "      <td>KO/TKO</td>\n",
       "      <td>Win by KO/TKO</td>\n",
       "      <td>0.0</td>\n",
       "      <td>0_Flyweight</td>\n",
       "      <td>JP Buys</td>\n",
       "      <td>2_Flyweight</td>\n",
       "    </tr>\n",
       "    <tr>\n",
       "      <th>16</th>\n",
       "      <td>Joaquin Buckley</td>\n",
       "      <td>Albert Duraev</td>\n",
       "      <td>2022-06-18</td>\n",
       "      <td>Red</td>\n",
       "      <td>Middleweight</td>\n",
       "      <td>0.000000</td>\n",
       "      <td>0.001111</td>\n",
       "      <td>0.001111</td>\n",
       "      <td>0.000000</td>\n",
       "      <td>0.000000</td>\n",
       "      <td>...</td>\n",
       "      <td>0.0</td>\n",
       "      <td>0.0</td>\n",
       "      <td>0.0</td>\n",
       "      <td>Albert Duraev</td>\n",
       "      <td>KO/TKO</td>\n",
       "      <td>Loss by KO/TKO</td>\n",
       "      <td>0.0</td>\n",
       "      <td>0_Middleweight</td>\n",
       "      <td>Joaquin Buckley</td>\n",
       "      <td>2_Middleweight</td>\n",
       "    </tr>\n",
       "    <tr>\n",
       "      <th>...</th>\n",
       "      <td>...</td>\n",
       "      <td>...</td>\n",
       "      <td>...</td>\n",
       "      <td>...</td>\n",
       "      <td>...</td>\n",
       "      <td>...</td>\n",
       "      <td>...</td>\n",
       "      <td>...</td>\n",
       "      <td>...</td>\n",
       "      <td>...</td>\n",
       "      <td>...</td>\n",
       "      <td>...</td>\n",
       "      <td>...</td>\n",
       "      <td>...</td>\n",
       "      <td>...</td>\n",
       "      <td>...</td>\n",
       "      <td>...</td>\n",
       "      <td>...</td>\n",
       "      <td>...</td>\n",
       "      <td>...</td>\n",
       "      <td>...</td>\n",
       "    </tr>\n",
       "    <tr>\n",
       "      <th>8593</th>\n",
       "      <td>Jens Pulver</td>\n",
       "      <td>BJ Penn</td>\n",
       "      <td>2002-01-11</td>\n",
       "      <td>Red</td>\n",
       "      <td>Lightweight</td>\n",
       "      <td>0.000103</td>\n",
       "      <td>0.000000</td>\n",
       "      <td>0.000488</td>\n",
       "      <td>0.001233</td>\n",
       "      <td>0.000051</td>\n",
       "      <td>...</td>\n",
       "      <td>1.0</td>\n",
       "      <td>0.0</td>\n",
       "      <td>0.0</td>\n",
       "      <td>Jens Pulver</td>\n",
       "      <td>M-DEC</td>\n",
       "      <td>Win by M-DEC</td>\n",
       "      <td>0.0</td>\n",
       "      <td>0_Lightweight</td>\n",
       "      <td>BJ Penn</td>\n",
       "      <td>2_Lightweight</td>\n",
       "    </tr>\n",
       "    <tr>\n",
       "      <th>8594</th>\n",
       "      <td>BJ Penn</td>\n",
       "      <td>Caol Uno</td>\n",
       "      <td>2001-11-02</td>\n",
       "      <td>Red</td>\n",
       "      <td>Lightweight</td>\n",
       "      <td>0.002179</td>\n",
       "      <td>0.000000</td>\n",
       "      <td>0.000000</td>\n",
       "      <td>0.000000</td>\n",
       "      <td>0.000000</td>\n",
       "      <td>...</td>\n",
       "      <td>0.0</td>\n",
       "      <td>0.0</td>\n",
       "      <td>0.0</td>\n",
       "      <td>BJ Penn</td>\n",
       "      <td>KO/TKO</td>\n",
       "      <td>Win by KO/TKO</td>\n",
       "      <td>2.0</td>\n",
       "      <td>2_Lightweight</td>\n",
       "      <td>Caol Uno</td>\n",
       "      <td>0_Lightweight</td>\n",
       "    </tr>\n",
       "    <tr>\n",
       "      <th>8595</th>\n",
       "      <td>Matt Lindland</td>\n",
       "      <td>Phil Baroni</td>\n",
       "      <td>2001-11-02</td>\n",
       "      <td>Red</td>\n",
       "      <td>Middleweight</td>\n",
       "      <td>0.000000</td>\n",
       "      <td>0.000000</td>\n",
       "      <td>0.000000</td>\n",
       "      <td>0.000000</td>\n",
       "      <td>0.000000</td>\n",
       "      <td>...</td>\n",
       "      <td>1.0</td>\n",
       "      <td>0.0</td>\n",
       "      <td>0.0</td>\n",
       "      <td>Matt Lindland</td>\n",
       "      <td>M-DEC</td>\n",
       "      <td>Win by M-DEC</td>\n",
       "      <td>2.0</td>\n",
       "      <td>2_Middleweight</td>\n",
       "      <td>Phil Baroni</td>\n",
       "      <td>0_Middleweight</td>\n",
       "    </tr>\n",
       "    <tr>\n",
       "      <th>8596</th>\n",
       "      <td>Jens Pulver</td>\n",
       "      <td>Dennis Hallman</td>\n",
       "      <td>2001-09-28</td>\n",
       "      <td>Red</td>\n",
       "      <td>Lightweight</td>\n",
       "      <td>0.000268</td>\n",
       "      <td>0.000000</td>\n",
       "      <td>0.000201</td>\n",
       "      <td>0.000000</td>\n",
       "      <td>0.000134</td>\n",
       "      <td>...</td>\n",
       "      <td>1.0</td>\n",
       "      <td>0.0</td>\n",
       "      <td>0.0</td>\n",
       "      <td>Jens Pulver</td>\n",
       "      <td>U-DEC</td>\n",
       "      <td>Win by U-DEC</td>\n",
       "      <td>0.0</td>\n",
       "      <td>0_Lightweight</td>\n",
       "      <td>Dennis Hallman</td>\n",
       "      <td>2_Lightweight</td>\n",
       "    </tr>\n",
       "    <tr>\n",
       "      <th>8603</th>\n",
       "      <td>Randy Couture</td>\n",
       "      <td>Vitor Belfort</td>\n",
       "      <td>1997-10-17</td>\n",
       "      <td>Red</td>\n",
       "      <td>Heavyweight</td>\n",
       "      <td>0.000000</td>\n",
       "      <td>0.000000</td>\n",
       "      <td>0.004016</td>\n",
       "      <td>0.000000</td>\n",
       "      <td>0.000000</td>\n",
       "      <td>...</td>\n",
       "      <td>0.0</td>\n",
       "      <td>0.0</td>\n",
       "      <td>0.0</td>\n",
       "      <td>Randy Couture</td>\n",
       "      <td>KO/TKO</td>\n",
       "      <td>Win by KO/TKO</td>\n",
       "      <td>1.0</td>\n",
       "      <td>1_Heavyweight</td>\n",
       "      <td>Vitor Belfort</td>\n",
       "      <td>0_Heavyweight</td>\n",
       "    </tr>\n",
       "  </tbody>\n",
       "</table>\n",
       "<p>3248 rows × 84 columns</p>\n",
       "</div>"
      ],
      "text/plain": [
       "                  R_fighter       B_fighter        date Winner  \\\n",
       "4           Arman Tsarukyan  Mateusz Gamrot  2022-06-25   Blue   \n",
       "6     Shayilan Nuerdanbieke        TJ Brown  2022-06-25    Red   \n",
       "8        Vanessa Demopoulos    Jinh Yu Frey  2022-06-25    Red   \n",
       "9                   JP Buys     Cody Durden  2022-06-25   Blue   \n",
       "16          Joaquin Buckley   Albert Duraev  2022-06-18    Red   \n",
       "...                     ...             ...         ...    ...   \n",
       "8593            Jens Pulver         BJ Penn  2002-01-11    Red   \n",
       "8594                BJ Penn        Caol Uno  2001-11-02    Red   \n",
       "8595          Matt Lindland     Phil Baroni  2001-11-02    Red   \n",
       "8596            Jens Pulver  Dennis Hallman  2001-09-28    Red   \n",
       "8603          Randy Couture   Vitor Belfort  1997-10-17    Red   \n",
       "\n",
       "          weight_class    avg_KD  avg_opp_KD  avg_SUB_ATT  avg_opp_SUB_ATT  \\\n",
       "4          Lightweight  0.000291    0.000291     0.000582         0.000000   \n",
       "6        Featherweight  0.000000    0.000293     0.002053         0.001027   \n",
       "8     WomenStrawweight  0.000000    0.000000     0.000568         0.000142   \n",
       "9            Flyweight  0.000000    0.001278     0.000319         0.001917   \n",
       "16        Middleweight  0.000000    0.001111     0.001111         0.000000   \n",
       "...                ...       ...         ...          ...              ...   \n",
       "8593       Lightweight  0.000103    0.000000     0.000488         0.001233   \n",
       "8594       Lightweight  0.002179    0.000000     0.000000         0.000000   \n",
       "8595      Middleweight  0.000000    0.000000     0.000000         0.000000   \n",
       "8596       Lightweight  0.000268    0.000000     0.000201         0.000000   \n",
       "8603       Heavyweight  0.000000    0.000000     0.004016         0.000000   \n",
       "\n",
       "       avg_REV  ...  Stance_Southpaw  Stance_Switch  Stance_nan  \\\n",
       "4     0.000000  ...              1.0            0.0         0.0   \n",
       "6     0.001173  ...              0.0            1.0         0.0   \n",
       "8     0.000000  ...              1.0            0.0         0.0   \n",
       "9     0.000000  ...              1.0            0.0         0.0   \n",
       "16    0.000000  ...              0.0            0.0         0.0   \n",
       "...        ...  ...              ...            ...         ...   \n",
       "8593  0.000051  ...              1.0            0.0         0.0   \n",
       "8594  0.000000  ...              0.0            0.0         0.0   \n",
       "8595  0.000000  ...              1.0            0.0         0.0   \n",
       "8596  0.000134  ...              1.0            0.0         0.0   \n",
       "8603  0.000000  ...              0.0            0.0         0.0   \n",
       "\n",
       "             fighter  method  fighter_result  cluster    specific_cluster  \\\n",
       "4     Mateusz Gamrot   U-DEC    Win by U-DEC      0.0       0_Lightweight   \n",
       "6           TJ Brown   U-DEC   Loss by U-DEC      0.0     0_Featherweight   \n",
       "8       Jinh Yu Frey   S-DEC   Loss by S-DEC      0.0  0_WomenStrawweight   \n",
       "9        Cody Durden  KO/TKO   Win by KO/TKO      0.0         0_Flyweight   \n",
       "16     Albert Duraev  KO/TKO  Loss by KO/TKO      0.0      0_Middleweight   \n",
       "...              ...     ...             ...      ...                 ...   \n",
       "8593     Jens Pulver   M-DEC    Win by M-DEC      0.0       0_Lightweight   \n",
       "8594         BJ Penn  KO/TKO   Win by KO/TKO      2.0       2_Lightweight   \n",
       "8595   Matt Lindland   M-DEC    Win by M-DEC      2.0      2_Middleweight   \n",
       "8596     Jens Pulver   U-DEC    Win by U-DEC      0.0       0_Lightweight   \n",
       "8603   Randy Couture  KO/TKO   Win by KO/TKO      1.0       1_Heavyweight   \n",
       "\n",
       "             Fighter_dims_y  opp_specific_cluster  \n",
       "4           Arman Tsarukyan         2_Lightweight  \n",
       "6     Shayilan Nuerdanbieke       2_Featherweight  \n",
       "8        Vanessa Demopoulos    1_WomenStrawweight  \n",
       "9                   JP Buys           2_Flyweight  \n",
       "16          Joaquin Buckley        2_Middleweight  \n",
       "...                     ...                   ...  \n",
       "8593                BJ Penn         2_Lightweight  \n",
       "8594               Caol Uno         0_Lightweight  \n",
       "8595            Phil Baroni        0_Middleweight  \n",
       "8596         Dennis Hallman         2_Lightweight  \n",
       "8603          Vitor Belfort         0_Heavyweight  \n",
       "\n",
       "[3248 rows x 84 columns]"
      ]
     },
     "execution_count": 3,
     "metadata": {},
     "output_type": "execute_result"
    }
   ],
   "source": [
    "analysis_data_base = fighter_data.merge(right=all_fighter_cluster[['cluster','specific_cluster', 'Fighter_dims', 'weight_class']], how='left', left_on=['Fighter_dims', 'weight_class'], right_on=['Fighter_dims', 'weight_class'])\n",
    "analysis_data_base = analysis_data_base.dropna(subset=['cluster'])\n",
    "analysis_data_opp = analysis_data_base.copy()\n",
    "analysis_data_opp['opp_specific_cluster'] = analysis_data_opp['specific_cluster']\n",
    "analysis_data = analysis_data_base.merge(right=analysis_data_opp[['weight_class', 'Fighter_dims', 'date', 'opp_specific_cluster']], how='inner', left_on=['weight_class', 'Opponent', 'date'], right_on=['weight_class', 'Fighter_dims', 'date'] )\n",
    "analysis_data_opposing_styles = analysis_data.loc[analysis_data['opp_specific_cluster'] != analysis_data['specific_cluster']].copy()\n",
    "analysis_data_opposing_styles"
   ]
  },
  {
   "cell_type": "code",
   "execution_count": 4,
   "id": "081b06ca-8e3e-4732-acb5-27d7d87dca8e",
   "metadata": {
    "tags": []
   },
   "outputs": [
    {
     "data": {
      "text/html": [
       "<div>\n",
       "<style scoped>\n",
       "    .dataframe tbody tr th:only-of-type {\n",
       "        vertical-align: middle;\n",
       "    }\n",
       "\n",
       "    .dataframe tbody tr th {\n",
       "        vertical-align: top;\n",
       "    }\n",
       "\n",
       "    .dataframe thead th {\n",
       "        text-align: right;\n",
       "    }\n",
       "</style>\n",
       "<table border=\"1\" class=\"dataframe\">\n",
       "  <thead>\n",
       "    <tr style=\"text-align: right;\">\n",
       "      <th></th>\n",
       "      <th>R_fighter</th>\n",
       "      <th>B_fighter</th>\n",
       "      <th>date</th>\n",
       "      <th>Winner</th>\n",
       "      <th>weight_class</th>\n",
       "      <th>avg_KD</th>\n",
       "      <th>avg_opp_KD</th>\n",
       "      <th>avg_SUB_ATT</th>\n",
       "      <th>avg_opp_SUB_ATT</th>\n",
       "      <th>avg_REV</th>\n",
       "      <th>...</th>\n",
       "      <th>Stance_Southpaw</th>\n",
       "      <th>Stance_Switch</th>\n",
       "      <th>Stance_nan</th>\n",
       "      <th>fighter</th>\n",
       "      <th>method</th>\n",
       "      <th>fighter_result</th>\n",
       "      <th>cluster</th>\n",
       "      <th>specific_cluster</th>\n",
       "      <th>Fighter_dims_y</th>\n",
       "      <th>opp_specific_cluster</th>\n",
       "    </tr>\n",
       "  </thead>\n",
       "  <tbody>\n",
       "    <tr>\n",
       "      <th>4306</th>\n",
       "      <td>Arman Tsarukyan</td>\n",
       "      <td>Mateusz Gamrot</td>\n",
       "      <td>2022-06-25</td>\n",
       "      <td>Blue</td>\n",
       "      <td>Lightweight</td>\n",
       "      <td>0.000537</td>\n",
       "      <td>0.000000</td>\n",
       "      <td>0.000000</td>\n",
       "      <td>0.000000</td>\n",
       "      <td>0.000000</td>\n",
       "      <td>...</td>\n",
       "      <td>0.0</td>\n",
       "      <td>0.0</td>\n",
       "      <td>0.0</td>\n",
       "      <td>Arman Tsarukyan</td>\n",
       "      <td>U-DEC</td>\n",
       "      <td>Loss by U-DEC</td>\n",
       "      <td>2.0</td>\n",
       "      <td>2_Lightweight</td>\n",
       "      <td>Mateusz Gamrot</td>\n",
       "      <td>0_Lightweight</td>\n",
       "    </tr>\n",
       "    <tr>\n",
       "      <th>4308</th>\n",
       "      <td>Shayilan Nuerdanbieke</td>\n",
       "      <td>TJ Brown</td>\n",
       "      <td>2022-06-25</td>\n",
       "      <td>Red</td>\n",
       "      <td>Featherweight</td>\n",
       "      <td>0.000000</td>\n",
       "      <td>0.000000</td>\n",
       "      <td>0.000000</td>\n",
       "      <td>0.000556</td>\n",
       "      <td>0.001111</td>\n",
       "      <td>...</td>\n",
       "      <td>0.0</td>\n",
       "      <td>0.0</td>\n",
       "      <td>0.0</td>\n",
       "      <td>Shayilan Nuerdanbieke</td>\n",
       "      <td>U-DEC</td>\n",
       "      <td>Win by U-DEC</td>\n",
       "      <td>2.0</td>\n",
       "      <td>2_Featherweight</td>\n",
       "      <td>TJ Brown</td>\n",
       "      <td>0_Featherweight</td>\n",
       "    </tr>\n",
       "    <tr>\n",
       "      <th>4310</th>\n",
       "      <td>Vanessa Demopoulos</td>\n",
       "      <td>Jinh Yu Frey</td>\n",
       "      <td>2022-06-25</td>\n",
       "      <td>Red</td>\n",
       "      <td>WomenStrawweight</td>\n",
       "      <td>0.000000</td>\n",
       "      <td>0.000957</td>\n",
       "      <td>0.001914</td>\n",
       "      <td>0.000000</td>\n",
       "      <td>0.000000</td>\n",
       "      <td>...</td>\n",
       "      <td>0.0</td>\n",
       "      <td>0.0</td>\n",
       "      <td>0.0</td>\n",
       "      <td>Vanessa Demopoulos</td>\n",
       "      <td>S-DEC</td>\n",
       "      <td>Win by S-DEC</td>\n",
       "      <td>1.0</td>\n",
       "      <td>1_WomenStrawweight</td>\n",
       "      <td>Jinh Yu Frey</td>\n",
       "      <td>0_WomenStrawweight</td>\n",
       "    </tr>\n",
       "    <tr>\n",
       "      <th>4311</th>\n",
       "      <td>JP Buys</td>\n",
       "      <td>Cody Durden</td>\n",
       "      <td>2022-06-25</td>\n",
       "      <td>Blue</td>\n",
       "      <td>Flyweight</td>\n",
       "      <td>0.000000</td>\n",
       "      <td>0.005087</td>\n",
       "      <td>0.002907</td>\n",
       "      <td>0.000727</td>\n",
       "      <td>0.000000</td>\n",
       "      <td>...</td>\n",
       "      <td>0.0</td>\n",
       "      <td>0.0</td>\n",
       "      <td>0.0</td>\n",
       "      <td>JP Buys</td>\n",
       "      <td>KO/TKO</td>\n",
       "      <td>Loss by KO/TKO</td>\n",
       "      <td>2.0</td>\n",
       "      <td>2_Flyweight</td>\n",
       "      <td>Cody Durden</td>\n",
       "      <td>0_Flyweight</td>\n",
       "    </tr>\n",
       "    <tr>\n",
       "      <th>4318</th>\n",
       "      <td>Joaquin Buckley</td>\n",
       "      <td>Albert Duraev</td>\n",
       "      <td>2022-06-18</td>\n",
       "      <td>Red</td>\n",
       "      <td>Middleweight</td>\n",
       "      <td>0.000576</td>\n",
       "      <td>0.000266</td>\n",
       "      <td>0.000000</td>\n",
       "      <td>0.000000</td>\n",
       "      <td>0.000000</td>\n",
       "      <td>...</td>\n",
       "      <td>1.0</td>\n",
       "      <td>0.0</td>\n",
       "      <td>0.0</td>\n",
       "      <td>Joaquin Buckley</td>\n",
       "      <td>KO/TKO</td>\n",
       "      <td>Win by KO/TKO</td>\n",
       "      <td>2.0</td>\n",
       "      <td>2_Middleweight</td>\n",
       "      <td>Albert Duraev</td>\n",
       "      <td>0_Middleweight</td>\n",
       "    </tr>\n",
       "    <tr>\n",
       "      <th>...</th>\n",
       "      <td>...</td>\n",
       "      <td>...</td>\n",
       "      <td>...</td>\n",
       "      <td>...</td>\n",
       "      <td>...</td>\n",
       "      <td>...</td>\n",
       "      <td>...</td>\n",
       "      <td>...</td>\n",
       "      <td>...</td>\n",
       "      <td>...</td>\n",
       "      <td>...</td>\n",
       "      <td>...</td>\n",
       "      <td>...</td>\n",
       "      <td>...</td>\n",
       "      <td>...</td>\n",
       "      <td>...</td>\n",
       "      <td>...</td>\n",
       "      <td>...</td>\n",
       "      <td>...</td>\n",
       "      <td>...</td>\n",
       "      <td>...</td>\n",
       "    </tr>\n",
       "    <tr>\n",
       "      <th>8593</th>\n",
       "      <td>Jens Pulver</td>\n",
       "      <td>BJ Penn</td>\n",
       "      <td>2002-01-11</td>\n",
       "      <td>Red</td>\n",
       "      <td>Lightweight</td>\n",
       "      <td>0.000103</td>\n",
       "      <td>0.000000</td>\n",
       "      <td>0.000488</td>\n",
       "      <td>0.001233</td>\n",
       "      <td>0.000051</td>\n",
       "      <td>...</td>\n",
       "      <td>1.0</td>\n",
       "      <td>0.0</td>\n",
       "      <td>0.0</td>\n",
       "      <td>Jens Pulver</td>\n",
       "      <td>M-DEC</td>\n",
       "      <td>Win by M-DEC</td>\n",
       "      <td>0.0</td>\n",
       "      <td>0_Lightweight</td>\n",
       "      <td>BJ Penn</td>\n",
       "      <td>2_Lightweight</td>\n",
       "    </tr>\n",
       "    <tr>\n",
       "      <th>8594</th>\n",
       "      <td>BJ Penn</td>\n",
       "      <td>Caol Uno</td>\n",
       "      <td>2001-11-02</td>\n",
       "      <td>Red</td>\n",
       "      <td>Lightweight</td>\n",
       "      <td>0.002179</td>\n",
       "      <td>0.000000</td>\n",
       "      <td>0.000000</td>\n",
       "      <td>0.000000</td>\n",
       "      <td>0.000000</td>\n",
       "      <td>...</td>\n",
       "      <td>0.0</td>\n",
       "      <td>0.0</td>\n",
       "      <td>0.0</td>\n",
       "      <td>BJ Penn</td>\n",
       "      <td>KO/TKO</td>\n",
       "      <td>Win by KO/TKO</td>\n",
       "      <td>2.0</td>\n",
       "      <td>2_Lightweight</td>\n",
       "      <td>Caol Uno</td>\n",
       "      <td>0_Lightweight</td>\n",
       "    </tr>\n",
       "    <tr>\n",
       "      <th>8595</th>\n",
       "      <td>Matt Lindland</td>\n",
       "      <td>Phil Baroni</td>\n",
       "      <td>2001-11-02</td>\n",
       "      <td>Red</td>\n",
       "      <td>Middleweight</td>\n",
       "      <td>0.000000</td>\n",
       "      <td>0.000000</td>\n",
       "      <td>0.000000</td>\n",
       "      <td>0.000000</td>\n",
       "      <td>0.000000</td>\n",
       "      <td>...</td>\n",
       "      <td>1.0</td>\n",
       "      <td>0.0</td>\n",
       "      <td>0.0</td>\n",
       "      <td>Matt Lindland</td>\n",
       "      <td>M-DEC</td>\n",
       "      <td>Win by M-DEC</td>\n",
       "      <td>2.0</td>\n",
       "      <td>2_Middleweight</td>\n",
       "      <td>Phil Baroni</td>\n",
       "      <td>0_Middleweight</td>\n",
       "    </tr>\n",
       "    <tr>\n",
       "      <th>8596</th>\n",
       "      <td>Jens Pulver</td>\n",
       "      <td>Dennis Hallman</td>\n",
       "      <td>2001-09-28</td>\n",
       "      <td>Red</td>\n",
       "      <td>Lightweight</td>\n",
       "      <td>0.000268</td>\n",
       "      <td>0.000000</td>\n",
       "      <td>0.000201</td>\n",
       "      <td>0.000000</td>\n",
       "      <td>0.000134</td>\n",
       "      <td>...</td>\n",
       "      <td>1.0</td>\n",
       "      <td>0.0</td>\n",
       "      <td>0.0</td>\n",
       "      <td>Jens Pulver</td>\n",
       "      <td>U-DEC</td>\n",
       "      <td>Win by U-DEC</td>\n",
       "      <td>0.0</td>\n",
       "      <td>0_Lightweight</td>\n",
       "      <td>Dennis Hallman</td>\n",
       "      <td>2_Lightweight</td>\n",
       "    </tr>\n",
       "    <tr>\n",
       "      <th>8603</th>\n",
       "      <td>Randy Couture</td>\n",
       "      <td>Vitor Belfort</td>\n",
       "      <td>1997-10-17</td>\n",
       "      <td>Red</td>\n",
       "      <td>Heavyweight</td>\n",
       "      <td>0.000000</td>\n",
       "      <td>0.000000</td>\n",
       "      <td>0.004016</td>\n",
       "      <td>0.000000</td>\n",
       "      <td>0.000000</td>\n",
       "      <td>...</td>\n",
       "      <td>0.0</td>\n",
       "      <td>0.0</td>\n",
       "      <td>0.0</td>\n",
       "      <td>Randy Couture</td>\n",
       "      <td>KO/TKO</td>\n",
       "      <td>Win by KO/TKO</td>\n",
       "      <td>1.0</td>\n",
       "      <td>1_Heavyweight</td>\n",
       "      <td>Vitor Belfort</td>\n",
       "      <td>0_Heavyweight</td>\n",
       "    </tr>\n",
       "  </tbody>\n",
       "</table>\n",
       "<p>1624 rows × 84 columns</p>\n",
       "</div>"
      ],
      "text/plain": [
       "                  R_fighter       B_fighter        date Winner  \\\n",
       "4306        Arman Tsarukyan  Mateusz Gamrot  2022-06-25   Blue   \n",
       "4308  Shayilan Nuerdanbieke        TJ Brown  2022-06-25    Red   \n",
       "4310     Vanessa Demopoulos    Jinh Yu Frey  2022-06-25    Red   \n",
       "4311                JP Buys     Cody Durden  2022-06-25   Blue   \n",
       "4318        Joaquin Buckley   Albert Duraev  2022-06-18    Red   \n",
       "...                     ...             ...         ...    ...   \n",
       "8593            Jens Pulver         BJ Penn  2002-01-11    Red   \n",
       "8594                BJ Penn        Caol Uno  2001-11-02    Red   \n",
       "8595          Matt Lindland     Phil Baroni  2001-11-02    Red   \n",
       "8596            Jens Pulver  Dennis Hallman  2001-09-28    Red   \n",
       "8603          Randy Couture   Vitor Belfort  1997-10-17    Red   \n",
       "\n",
       "          weight_class    avg_KD  avg_opp_KD  avg_SUB_ATT  avg_opp_SUB_ATT  \\\n",
       "4306       Lightweight  0.000537    0.000000     0.000000         0.000000   \n",
       "4308     Featherweight  0.000000    0.000000     0.000000         0.000556   \n",
       "4310  WomenStrawweight  0.000000    0.000957     0.001914         0.000000   \n",
       "4311         Flyweight  0.000000    0.005087     0.002907         0.000727   \n",
       "4318      Middleweight  0.000576    0.000266     0.000000         0.000000   \n",
       "...                ...       ...         ...          ...              ...   \n",
       "8593       Lightweight  0.000103    0.000000     0.000488         0.001233   \n",
       "8594       Lightweight  0.002179    0.000000     0.000000         0.000000   \n",
       "8595      Middleweight  0.000000    0.000000     0.000000         0.000000   \n",
       "8596       Lightweight  0.000268    0.000000     0.000201         0.000000   \n",
       "8603       Heavyweight  0.000000    0.000000     0.004016         0.000000   \n",
       "\n",
       "       avg_REV  ...  Stance_Southpaw  Stance_Switch  Stance_nan  \\\n",
       "4306  0.000000  ...              0.0            0.0         0.0   \n",
       "4308  0.001111  ...              0.0            0.0         0.0   \n",
       "4310  0.000000  ...              0.0            0.0         0.0   \n",
       "4311  0.000000  ...              0.0            0.0         0.0   \n",
       "4318  0.000000  ...              1.0            0.0         0.0   \n",
       "...        ...  ...              ...            ...         ...   \n",
       "8593  0.000051  ...              1.0            0.0         0.0   \n",
       "8594  0.000000  ...              0.0            0.0         0.0   \n",
       "8595  0.000000  ...              1.0            0.0         0.0   \n",
       "8596  0.000134  ...              1.0            0.0         0.0   \n",
       "8603  0.000000  ...              0.0            0.0         0.0   \n",
       "\n",
       "                    fighter  method  fighter_result  cluster  \\\n",
       "4306        Arman Tsarukyan   U-DEC   Loss by U-DEC      2.0   \n",
       "4308  Shayilan Nuerdanbieke   U-DEC    Win by U-DEC      2.0   \n",
       "4310     Vanessa Demopoulos   S-DEC    Win by S-DEC      1.0   \n",
       "4311                JP Buys  KO/TKO  Loss by KO/TKO      2.0   \n",
       "4318        Joaquin Buckley  KO/TKO   Win by KO/TKO      2.0   \n",
       "...                     ...     ...             ...      ...   \n",
       "8593            Jens Pulver   M-DEC    Win by M-DEC      0.0   \n",
       "8594                BJ Penn  KO/TKO   Win by KO/TKO      2.0   \n",
       "8595          Matt Lindland   M-DEC    Win by M-DEC      2.0   \n",
       "8596            Jens Pulver   U-DEC    Win by U-DEC      0.0   \n",
       "8603          Randy Couture  KO/TKO   Win by KO/TKO      1.0   \n",
       "\n",
       "        specific_cluster  Fighter_dims_y  opp_specific_cluster  \n",
       "4306       2_Lightweight  Mateusz Gamrot         0_Lightweight  \n",
       "4308     2_Featherweight        TJ Brown       0_Featherweight  \n",
       "4310  1_WomenStrawweight    Jinh Yu Frey    0_WomenStrawweight  \n",
       "4311         2_Flyweight     Cody Durden           0_Flyweight  \n",
       "4318      2_Middleweight   Albert Duraev        0_Middleweight  \n",
       "...                  ...             ...                   ...  \n",
       "8593       0_Lightweight         BJ Penn         2_Lightweight  \n",
       "8594       2_Lightweight        Caol Uno         0_Lightweight  \n",
       "8595      2_Middleweight     Phil Baroni        0_Middleweight  \n",
       "8596       0_Lightweight  Dennis Hallman         2_Lightweight  \n",
       "8603       1_Heavyweight   Vitor Belfort         0_Heavyweight  \n",
       "\n",
       "[1624 rows x 84 columns]"
      ]
     },
     "execution_count": 4,
     "metadata": {},
     "output_type": "execute_result"
    }
   ],
   "source": [
    "analysis_data_opposing_styles = analysis_data_opposing_styles.loc[analysis_data_opposing_styles['corner'] == 'Red'].copy()\n",
    "analysis_data_opposing_styles"
   ]
  },
  {
   "cell_type": "code",
   "execution_count": 5,
   "id": "3c14835c-5e04-4393-910d-4a9339566203",
   "metadata": {
    "tags": []
   },
   "outputs": [],
   "source": [
    "import pandas as pd\n",
    "\n",
    "# Assuming your DataFrame is named 'analysis_data_opposing_styles'\n",
    "# and the columns to combine are 'specific_cluster' and 'opp_specific_cluster'\n",
    "\n",
    "def create_style_matchup(row):\n",
    "    # Combine the two columns and sort them alphabetically\n",
    "    matchup = sorted([row['specific_cluster'], row['opp_specific_cluster']])\n",
    "    \n",
    "    # Join them with ' vs. ' and return the result\n",
    "    return matchup[0] + ' vs. ' + matchup[1]\n",
    "\n",
    "# Apply the custom function to each row and create the new 'style_matchup' column\n",
    "analysis_data_opposing_styles['style_matchup'] = analysis_data_opposing_styles.apply(create_style_matchup, axis=1)\n",
    "\n",
    "# Display the DataFrame\n",
    "analysis_data_opposing_styles.sort_values(by='weight_class', inplace=True)\n"
   ]
  },
  {
   "cell_type": "code",
   "execution_count": 6,
   "id": "a82210f2-ca10-423d-a2b3-6ae0967daa15",
   "metadata": {
    "tags": []
   },
   "outputs": [
    {
     "data": {
      "text/plain": [
       "['Bantamweight',\n",
       " 'CatchWeight',\n",
       " 'Featherweight',\n",
       " 'Flyweight',\n",
       " 'Heavyweight',\n",
       " 'LightHeavyweight',\n",
       " 'Lightweight',\n",
       " 'Middleweight',\n",
       " 'Welterweight',\n",
       " 'WomenFlyweight',\n",
       " 'WomenStrawweight']"
      ]
     },
     "execution_count": 6,
     "metadata": {},
     "output_type": "execute_result"
    }
   ],
   "source": [
    "weight_class = list(analysis_data_opposing_styles['weight_class'].drop_duplicates())\n",
    "weight_class"
   ]
  },
  {
   "cell_type": "code",
   "execution_count": 7,
   "id": "e6c17588-d99c-447b-8fdb-c61cac2760cc",
   "metadata": {
    "tags": []
   },
   "outputs": [
    {
     "name": "stdout",
     "output_type": "stream",
     "text": [
      "Chi2 Stat: 28.825901688011065\n",
      "P Value: 0.05054875528158479\n",
      "Degrees of Freedom: 18\n",
      "Chi2 Stat: 13.425641025641026\n",
      "P Value: 0.2008374331678513\n",
      "Degrees of Freedom: 10\n",
      "Chi2 Stat: 21.89650439633363\n",
      "P Value: 0.1465648125646093\n",
      "Degrees of Freedom: 16\n",
      "Chi2 Stat: 12.664899429574753\n",
      "P Value: 0.5530627827154784\n",
      "Degrees of Freedom: 14\n",
      "Chi2 Stat: 0.0\n",
      "P Value: 1.0\n",
      "Degrees of Freedom: 0\n",
      "Chi2 Stat: 20.79245179063361\n",
      "P Value: 0.18662717991872355\n",
      "Degrees of Freedom: 16\n",
      "Chi2 Stat: 11.739215400954702\n",
      "P Value: 0.962533226223222\n",
      "Degrees of Freedom: 22\n",
      "Chi2 Stat: 19.607799386531\n",
      "P Value: 0.48269147162262505\n",
      "Degrees of Freedom: 20\n",
      "Chi2 Stat: 83.37053075451333\n",
      "P Value: 0.9725064373353143\n",
      "Degrees of Freedom: 110\n",
      "Chi2 Stat: 0.0\n",
      "P Value: 1.0\n",
      "Degrees of Freedom: 0\n",
      "Chi2 Stat: 0.0\n",
      "P Value: 1.0\n",
      "Degrees of Freedom: 0\n"
     ]
    },
    {
     "data": {
      "text/plain": [
       "{'Bantamweight': fighter_result                      style_matchup  Draw by DRAW  Loss by DQ  \\\n",
       " 0               0_Bantamweight vs. 1_Bantamweight     -0.264135   -0.264135   \n",
       " 1               0_Bantamweight vs. 2_Bantamweight      0.482343   -0.787499   \n",
       " 2               1_Bantamweight vs. 2_Bantamweight     -0.556846    1.238982   \n",
       " \n",
       " fighter_result  Loss by KO/TKO  Loss by S-DEC  Loss by SUB  Loss by U-DEC  \\\n",
       " 0                    -0.477325      -0.698836     1.731553      -0.988304   \n",
       " 1                    -0.334568      -0.163706    -0.246094      -0.570895   \n",
       " 2                     0.699565       0.563002    -0.473319       1.276160   \n",
       " \n",
       " fighter_result  Win by KO/TKO  Win by S-DEC  Win by SUB  Win by U-DEC  \n",
       " 0                    2.796920     -0.646997   -0.988304     -0.824909  \n",
       " 1                   -1.257117      0.663084    1.465384      0.708239  \n",
       " 2                    0.451136     -0.630845   -1.603572     -0.610312  ,\n",
       " 'CatchWeight': fighter_result                    style_matchup  Loss by KO/TKO  Loss by SUB  \\\n",
       " 0               0_CatchWeight vs. 1_CatchWeight       -0.242536    -0.420084   \n",
       " 1               0_CatchWeight vs. 2_CatchWeight       -0.874475     0.466041   \n",
       " 2               1_CatchWeight vs. 2_CatchWeight        1.960392    -0.727607   \n",
       " \n",
       " fighter_result  Loss by U-DEC  Win by KO/TKO  Win by SUB  Win by U-DEC  \n",
       " 0                   -0.485071      -0.242536    1.960392     -0.542326  \n",
       " 1                    0.538138       0.269069   -0.194184     -0.421160  \n",
       " 2                   -0.840168      -0.420084   -0.727607      1.189826  ,\n",
       " 'Featherweight': fighter_result                        style_matchup  Draw by DRAW  \\\n",
       " 0               0_Featherweight vs. 1_Featherweight     -0.318357   \n",
       " 1               0_Featherweight vs. 2_Featherweight      2.097501   \n",
       " 2               1_Featherweight vs. 2_Featherweight     -1.394972   \n",
       " \n",
       " fighter_result  Loss by KO/TKO  Loss by S-DEC  Loss by SUB  Loss by U-DEC  \\\n",
       " 0                    -0.801182      -0.410997    -0.581238       0.344940   \n",
       " 1                    -0.013754      -0.466503     2.146034      -1.420726   \n",
       " 2                     0.192467       0.420210    -1.368936       0.915364   \n",
       " \n",
       " fighter_result  Win by KO/TKO  Win by S-DEC  Win by SUB  Win by U-DEC  \n",
       " 0                    0.394558     -0.551411   -0.801182      1.327319  \n",
       " 1                    0.257381      0.675438   -0.420857     -0.640135  \n",
       " 2                   -0.270135     -0.346764    0.477319      0.144986  ,\n",
       " 'Flyweight': fighter_result                style_matchup  Loss by KO/TKO  Loss by S-DEC  \\\n",
       " 0               0_Flyweight vs. 1_Flyweight       -0.616236      -0.665611   \n",
       " 1               0_Flyweight vs. 2_Flyweight        0.555535      -0.246448   \n",
       " 2               1_Flyweight vs. 2_Flyweight       -0.914026       1.038547   \n",
       " \n",
       " fighter_result  Loss by SUB  Loss by U-DEC  Win by KO/TKO  Win by S-DEC  \\\n",
       " 0                  1.215095       0.121026       0.364096     -0.562544   \n",
       " 1                  0.006339       0.549313      -0.598340     -0.494454   \n",
       " 2                 -0.834388      -1.396197       1.186456      1.562580   \n",
       " \n",
       " fighter_result  Win by SUB  Win by U-DEC  \n",
       " 0                 0.195370     -0.130454  \n",
       " 1                -0.114010      0.170392  \n",
       " 2                 0.141127     -0.319826  ,\n",
       " 'Heavyweight': fighter_result                    style_matchup  Draw by DRAW  Loss by DQ  \\\n",
       " 0               0_Heavyweight vs. 1_Heavyweight           0.0         0.0   \n",
       " \n",
       " fighter_result  Loss by KO/TKO  Loss by M-DEC  Loss by S-DEC  Loss by SUB  \\\n",
       " 0                          0.0            0.0            0.0          0.0   \n",
       " \n",
       " fighter_result  Loss by U-DEC  Win by KO/TKO  Win by S-DEC  Win by SUB  \\\n",
       " 0                         0.0            0.0           0.0         0.0   \n",
       " \n",
       " fighter_result  Win by U-DEC  \n",
       " 0                        0.0  ,\n",
       " 'LightHeavyweight': fighter_result                              style_matchup  Draw by DRAW  \\\n",
       " 0               0_LightHeavyweight vs. 1_LightHeavyweight     -0.274204   \n",
       " 1               0_LightHeavyweight vs. 2_LightHeavyweight      0.133776   \n",
       " 2               1_LightHeavyweight vs. 2_LightHeavyweight     -0.324443   \n",
       " \n",
       " fighter_result  Loss by KO/TKO  Loss by S-DEC  Loss by SUB  Loss by U-DEC  \\\n",
       " 0                     1.155677       1.872958     1.137498       0.652929   \n",
       " 1                    -0.178607      -0.257347    -0.065690      -0.766865   \n",
       " 2                    -0.234146      -0.512989    -0.688247       2.636499   \n",
       " \n",
       " fighter_result  Win by KO/TKO  Win by S-DEC  Win by SUB  Win by U-DEC  \n",
       " 0                   -1.195229     -0.512989   -0.699086     -0.888523  \n",
       " 1                    0.413040      0.250272    0.341063     -0.024082  \n",
       " 2                   -0.707107     -0.606977   -0.827170      0.851064  ,\n",
       " 'Lightweight': fighter_result                    style_matchup  Draw by DRAW  Loss by DQ  \\\n",
       " 0               0_Lightweight vs. 1_Lightweight      0.840743   -0.221464   \n",
       " 1               0_Lightweight vs. 2_Lightweight     -0.302504    0.137148   \n",
       " 2               1_Lightweight vs. 2_Lightweight      0.342494   -0.281103   \n",
       " \n",
       " fighter_result  Loss by KO/TKO  Loss by M-DEC  Loss by S-DEC  Loss by SUB  \\\n",
       " 0                     0.388922      -0.221464       0.070566     1.388117   \n",
       " 1                    -0.390452       0.137148       0.106442    -0.690978   \n",
       " 2                     0.990602      -0.281103      -0.409175     1.201691   \n",
       " \n",
       " fighter_result  Loss by U-DEC  Win by KO/TKO  Win by M-DEC  Win by S-DEC  \\\n",
       " 0                   -0.992044       0.033356     -0.221464      0.886617   \n",
       " 1                    0.262941      -0.181955      0.137148     -0.041683   \n",
       " 2                   -0.091871       0.578142     -0.281103     -0.560049   \n",
       " \n",
       " fighter_result  Win by SUB  Win by U-DEC  \n",
       " 0                -1.073937     -0.082740  \n",
       " 1                 0.326210      0.335180  \n",
       " 2                -0.237521     -1.048223  ,\n",
       " 'Middleweight': fighter_result                      style_matchup  Draw by DRAW  \\\n",
       " 0               0_Middleweight vs. 1_Middleweight     -0.612372   \n",
       " 1               0_Middleweight vs. 2_Middleweight      0.286421   \n",
       " 2               1_Middleweight vs. 2_Middleweight     -0.535504   \n",
       " \n",
       " fighter_result  Loss by KO/TKO  Loss by S-DEC  Loss by SUB  Loss by U-DEC  \\\n",
       " 0                     2.281826      -0.866025     1.767767      -0.490290   \n",
       " 1                    -0.797639       0.405060    -0.503445      -0.027518   \n",
       " 2                     0.832090      -0.757317     0.150623       0.679398   \n",
       " \n",
       " fighter_result  Win by DQ  Win by KO/TKO  Win by M-DEC  Win by S-DEC  \\\n",
       " 0               -0.250000       0.129099     -0.250000     -0.968246   \n",
       " 1                0.116931       0.084536      0.116931      0.179136   \n",
       " 2               -0.218619      -0.512366     -0.218619      0.334340   \n",
       " \n",
       " fighter_result  Win by SUB  Win by U-DEC  \n",
       " 0                -1.500000     -0.328266  \n",
       " 1                 0.701585     -0.083934  \n",
       " 2                -1.311712      0.737524  ,\n",
       " 'Welterweight': fighter_result                       style_matchup  Draw by DRAW  \\\n",
       " 0               -1_Welterweight vs. 0_Welterweight     -0.307692   \n",
       " 1               -1_Welterweight vs. 1_Welterweight     -0.153846   \n",
       " 2               -1_Welterweight vs. 3_Welterweight     -0.153846   \n",
       " 3                0_Welterweight vs. 1_Welterweight      0.799640   \n",
       " 4                0_Welterweight vs. 2_Welterweight     -0.344010   \n",
       " 5                0_Welterweight vs. 3_Welterweight     -0.935810   \n",
       " 6                0_Welterweight vs. 4_Welterweight     -0.486504   \n",
       " 7                1_Welterweight vs. 2_Welterweight     -0.153846   \n",
       " 8                1_Welterweight vs. 3_Welterweight     -0.575640   \n",
       " 9                1_Welterweight vs. 4_Welterweight     -0.461538   \n",
       " 10               3_Welterweight vs. 4_Welterweight     -0.153846   \n",
       " \n",
       " fighter_result  Loss by KO/TKO  Loss by M-DEC  Loss by S-DEC  Loss by SUB  \\\n",
       " 0                     0.849502      -0.153846      -0.435143     2.049730   \n",
       " 1                    -0.330859      -0.076923      -0.217571    -0.203519   \n",
       " 2                    -0.330859      -0.076923      -0.217571    -0.203519   \n",
       " 3                     0.394784       0.399820       0.555212    -0.480664   \n",
       " 4                    -0.739822      -0.172005      -0.486504     1.742318   \n",
       " 5                    -0.024991      -0.467905      -1.323435     1.185382   \n",
       " 6                     0.865291      -0.243252      -0.688021    -0.643585   \n",
       " 7                    -0.330859      -0.076923      -0.217571    -0.203519   \n",
       " 8                    -1.237960      -0.287820       0.414307    -0.761500   \n",
       " 9                    -0.992576      -0.230769       0.879351    -0.610558   \n",
       " 10                   -0.330859      -0.076923      -0.217571    -0.203519   \n",
       " \n",
       " fighter_result  Loss by U-DEC  Win by DQ  Win by KO/TKO  Win by M-DEC  \\\n",
       " 0                    0.451518  -0.108786      -0.842650     -0.153846   \n",
       " 1                   -0.399704  -0.054393      -0.421325     -0.076923   \n",
       " 2                   -0.399704  -0.054393      -0.421325     -0.076923   \n",
       " 3                    0.667478   0.282716      -0.188209      0.399820   \n",
       " 4                   -0.893765  -0.121626       0.119334     -0.172005   \n",
       " 5                   -1.197399  -0.330859       0.168546     -0.467905   \n",
       " 6                   -0.472820  -0.172005       0.919319     -0.243252   \n",
       " 7                   -0.399704  -0.054393       1.952139     -0.076923   \n",
       " 8                   -0.158260  -0.203519      -0.942119     -0.287820   \n",
       " 9                    0.468789  -0.163178       1.109489     -0.230769   \n",
       " 10                  -0.399704  -0.054393      -0.421325     -0.076923   \n",
       " \n",
       " fighter_result  Win by S-DEC  Win by SUB  Win by U-DEC  \n",
       " 0                  -0.543928   -0.696568      0.080064  \n",
       " 1                  -0.271964    2.522936     -0.480384  \n",
       " 2                  -0.271964    2.522936     -0.480384  \n",
       " 3                   0.262278   -1.066581     -0.501381  \n",
       " 4                  -0.608130    1.789310     -0.143223  \n",
       " 5                  -1.049806    1.185650      1.184621  \n",
       " 6                  -0.860026   -1.101371      1.114013  \n",
       " 7                  -0.271964   -0.348284     -0.480384  \n",
       " 8                  -0.034889    2.533669      0.427960  \n",
       " 9                   2.861063   -1.044852     -1.441153  \n",
       " 10                 -0.271964   -0.348284      1.601282  ,\n",
       " 'WomenFlyweight': fighter_result                          style_matchup  Loss by KO/TKO  \\\n",
       " 0               0_WomenFlyweight vs. 1_WomenFlyweight             0.0   \n",
       " \n",
       " fighter_result  Loss by S-DEC  Loss by SUB  Loss by U-DEC  Win by KO/TKO  \\\n",
       " 0                         0.0          0.0            0.0            0.0   \n",
       " \n",
       " fighter_result  Win by S-DEC  Win by SUB  Win by U-DEC  \n",
       " 0                        0.0         0.0           0.0  ,\n",
       " 'WomenStrawweight': fighter_result                              style_matchup  Loss by KO/TKO  \\\n",
       " 0               0_WomenStrawweight vs. 1_WomenStrawweight             0.0   \n",
       " \n",
       " fighter_result  Loss by S-DEC  Loss by SUB  Loss by U-DEC  Win by S-DEC  \\\n",
       " 0                         0.0          0.0            0.0           0.0   \n",
       " \n",
       " fighter_result  Win by SUB  Win by U-DEC  \n",
       " 0                      0.0           0.0  }"
      ]
     },
     "execution_count": 7,
     "metadata": {},
     "output_type": "execute_result"
    }
   ],
   "source": [
    "from scripts.chisquareanalysis import ChiSquareAnalysis\n",
    "\n",
    "# Assuming weight_class is a list of weight classes\n",
    "\n",
    "# Initialize an empty dictionary to store the results\n",
    "results_dict = {}\n",
    "\n",
    "for weights in weight_class:\n",
    "    analysis = ChiSquareAnalysis(df=analysis_data_opposing_styles, category=weights)\n",
    "    result = analysis.run_chisquare_analysis('fighter_result')\n",
    "    \n",
    "    # Save the result in the dictionary with the weight as the key\n",
    "    results_dict[weights] = result\n",
    "\n",
    "# Display the results dictionary\n",
    "results_dict"
   ]
  },
  {
   "cell_type": "code",
   "execution_count": 8,
   "id": "4fc250cf-2980-4ed4-991a-17cb9bf0f09a",
   "metadata": {
    "tags": []
   },
   "outputs": [],
   "source": [
    "fighter_result = list(analysis_data_opposing_styles['fighter_result'].drop_duplicates())"
   ]
  },
  {
   "cell_type": "code",
   "execution_count": 9,
   "id": "7e41d6dc-d9fd-4ed7-a844-f74d89843ced",
   "metadata": {
    "tags": []
   },
   "outputs": [
    {
     "name": "stdout",
     "output_type": "stream",
     "text": [
      "Chi2 Stat: 28.825901688011065\n",
      "P Value: 0.05054875528158479\n",
      "Degrees of Freedom: 18\n"
     ]
    },
    {
     "data": {
      "text/html": [
       "<div>\n",
       "<style scoped>\n",
       "    .dataframe tbody tr th:only-of-type {\n",
       "        vertical-align: middle;\n",
       "    }\n",
       "\n",
       "    .dataframe tbody tr th {\n",
       "        vertical-align: top;\n",
       "    }\n",
       "\n",
       "    .dataframe thead th {\n",
       "        text-align: right;\n",
       "    }\n",
       "</style>\n",
       "<table border=\"1\" class=\"dataframe\">\n",
       "  <thead>\n",
       "    <tr style=\"text-align: right;\">\n",
       "      <th>fighter_result</th>\n",
       "      <th>style_matchup</th>\n",
       "      <th>Draw by DRAW</th>\n",
       "      <th>Loss by DQ</th>\n",
       "      <th>Loss by KO/TKO</th>\n",
       "      <th>Loss by S-DEC</th>\n",
       "      <th>Loss by SUB</th>\n",
       "      <th>Loss by U-DEC</th>\n",
       "      <th>Win by KO/TKO</th>\n",
       "      <th>Win by S-DEC</th>\n",
       "      <th>Win by SUB</th>\n",
       "      <th>Win by U-DEC</th>\n",
       "    </tr>\n",
       "  </thead>\n",
       "  <tbody>\n",
       "    <tr>\n",
       "      <th>0</th>\n",
       "      <td>0_Bantamweight vs. 1_Bantamweight</td>\n",
       "      <td>-0.264135</td>\n",
       "      <td>-0.264135</td>\n",
       "      <td>-0.477325</td>\n",
       "      <td>-0.698836</td>\n",
       "      <td>1.731553</td>\n",
       "      <td>-0.988304</td>\n",
       "      <td>2.796920</td>\n",
       "      <td>-0.646997</td>\n",
       "      <td>-0.988304</td>\n",
       "      <td>-0.824909</td>\n",
       "    </tr>\n",
       "    <tr>\n",
       "      <th>1</th>\n",
       "      <td>0_Bantamweight vs. 2_Bantamweight</td>\n",
       "      <td>0.482343</td>\n",
       "      <td>-0.787499</td>\n",
       "      <td>-0.334568</td>\n",
       "      <td>-0.163706</td>\n",
       "      <td>-0.246094</td>\n",
       "      <td>-0.570895</td>\n",
       "      <td>-1.257117</td>\n",
       "      <td>0.663084</td>\n",
       "      <td>1.465384</td>\n",
       "      <td>0.708239</td>\n",
       "    </tr>\n",
       "    <tr>\n",
       "      <th>2</th>\n",
       "      <td>1_Bantamweight vs. 2_Bantamweight</td>\n",
       "      <td>-0.556846</td>\n",
       "      <td>1.238982</td>\n",
       "      <td>0.699565</td>\n",
       "      <td>0.563002</td>\n",
       "      <td>-0.473319</td>\n",
       "      <td>1.276160</td>\n",
       "      <td>0.451136</td>\n",
       "      <td>-0.630845</td>\n",
       "      <td>-1.603572</td>\n",
       "      <td>-0.610312</td>\n",
       "    </tr>\n",
       "  </tbody>\n",
       "</table>\n",
       "</div>"
      ],
      "text/plain": [
       "fighter_result                      style_matchup  Draw by DRAW  Loss by DQ  \\\n",
       "0               0_Bantamweight vs. 1_Bantamweight     -0.264135   -0.264135   \n",
       "1               0_Bantamweight vs. 2_Bantamweight      0.482343   -0.787499   \n",
       "2               1_Bantamweight vs. 2_Bantamweight     -0.556846    1.238982   \n",
       "\n",
       "fighter_result  Loss by KO/TKO  Loss by S-DEC  Loss by SUB  Loss by U-DEC  \\\n",
       "0                    -0.477325      -0.698836     1.731553      -0.988304   \n",
       "1                    -0.334568      -0.163706    -0.246094      -0.570895   \n",
       "2                     0.699565       0.563002    -0.473319       1.276160   \n",
       "\n",
       "fighter_result  Win by KO/TKO  Win by S-DEC  Win by SUB  Win by U-DEC  \n",
       "0                    2.796920     -0.646997   -0.988304     -0.824909  \n",
       "1                   -1.257117      0.663084    1.465384      0.708239  \n",
       "2                    0.451136     -0.630845   -1.603572     -0.610312  "
      ]
     },
     "execution_count": 9,
     "metadata": {},
     "output_type": "execute_result"
    }
   ],
   "source": [
    "from scripts.chisquareanalysis import ChiSquareAnalysis\n",
    "analysis = ChiSquareAnalysis(df=analysis_data_opposing_styles, category='Bantamweight')\n",
    "result_batamweight = analysis.run_chisquare_analysis('fighter_result')\n",
    "result_batamweight"
   ]
  },
  {
   "cell_type": "code",
   "execution_count": 12,
   "id": "4592f0ee-c0fc-417c-ad02-6160acb87a71",
   "metadata": {
    "tags": []
   },
   "outputs": [
    {
     "data": {
      "image/png": "[encoded data removed]",
      "text/plain": [
       "<Figure size 800x400 with 2 Axes>"
      ]
     },
     "metadata": {},
     "output_type": "display_data"
    }
   ],
   "source": [
    "result_batamweight_col = result_batamweight.drop(columns=['style_matchup']).columns\n",
    "\n",
    "# Prepare the data for the heatmap\n",
    "heatmap_data = result_batamweight.set_index('style_matchup')[result_batamweight_col]\n",
    "\n",
    "# Create the heatmap\n",
    "plt.figure(figsize=(8, 4))\n",
    "sns.heatmap(heatmap_data, cmap='coolwarm', annot=True, linewidths=0.5, center=0)\n",
    "plt.title('Fight Result by Style: Batamweight')\n",
    "plt.xlabel('Result')\n",
    "plt.ylabel('Style Matchup')\n",
    "#plt.savefig(r\"C:\\Users\\johna\\anaconda3\\envs\\twitter-influence-env\\twitter-influence\\data\\03_reports\\sentiment_heatmap.png\")\n",
    "plt.show()"
   ]
  },
  {
   "cell_type": "code",
   "execution_count": 13,
   "id": "205e9dd4-6dfc-48c1-9569-beff008a7bb6",
   "metadata": {
    "tags": []
   },
   "outputs": [
    {
     "name": "stdout",
     "output_type": "stream",
     "text": [
      "Data loaded successfully:\n"
     ]
    }
   ],
   "source": [
    "import requests\n",
    "import json\n",
    "# import style dims\n",
    "url = 'https://github.com/john-adeojo/ufc_styles/raw/main/data/02_intermediate/style_dims_names.json'\n",
    "\n",
    "# Fetch the JSON file content\n",
    "response = requests.get(url)\n",
    "\n",
    "# Check if the request was successful (HTTP status code 200)\n",
    "if response.status_code == 200:\n",
    "    try:\n",
    "        # Load the content into a list\n",
    "        style_dims_names = json.loads(response.text)\n",
    "        print(\"Data loaded successfully:\")\n",
    "    except json.JSONDecodeError as e:\n",
    "        print(f\"Failed to decode JSON: {e}\")\n",
    "else:\n",
    "    print(f\"Failed to fetch JSON file: {response.status_code}\")"
   ]
  },
  {
   "cell_type": "code",
   "execution_count": 14,
   "id": "f42ffe29-bbab-4700-9988-a2b8b6c7efd8",
   "metadata": {
    "tags": []
   },
   "outputs": [],
   "source": [
    "style_dims_names_2 = style_dims_names\n",
    "style_dims_names_2.append('specific_cluster')"
   ]
  },
  {
   "cell_type": "code",
   "execution_count": 15,
   "id": "076c8b6b-4e2a-4d04-a151-0c437dcee222",
   "metadata": {
    "tags": []
   },
   "outputs": [
    {
     "data": {
      "text/html": [
       "<div>\n",
       "<style scoped>\n",
       "    .dataframe tbody tr th:only-of-type {\n",
       "        vertical-align: middle;\n",
       "    }\n",
       "\n",
       "    .dataframe tbody tr th {\n",
       "        vertical-align: top;\n",
       "    }\n",
       "\n",
       "    .dataframe thead th {\n",
       "        text-align: right;\n",
       "    }\n",
       "</style>\n",
       "<table border=\"1\" class=\"dataframe\">\n",
       "  <thead>\n",
       "    <tr style=\"text-align: right;\">\n",
       "      <th></th>\n",
       "      <th>specific_cluster</th>\n",
       "      <th>avg_KD</th>\n",
       "      <th>avg_opp_KD</th>\n",
       "      <th>avg_SUB_ATT</th>\n",
       "      <th>avg_opp_SUB_ATT</th>\n",
       "      <th>avg_REV</th>\n",
       "      <th>avg_opp_REV</th>\n",
       "      <th>avg_SIG_STR_att</th>\n",
       "      <th>avg_SIG_STR_landed</th>\n",
       "      <th>avg_opp_SIG_STR_att</th>\n",
       "      <th>...</th>\n",
       "      <th>avg_GROUND_landed</th>\n",
       "      <th>avg_opp_GROUND_att</th>\n",
       "      <th>avg_opp_GROUND_landed</th>\n",
       "      <th>avg_CTRL_time(seconds)</th>\n",
       "      <th>avg_opp_CTRL_time(seconds)</th>\n",
       "      <th>Stance_Open Stance</th>\n",
       "      <th>Stance_Orthodox</th>\n",
       "      <th>Stance_Sideways</th>\n",
       "      <th>Stance_Southpaw</th>\n",
       "      <th>Stance_Switch</th>\n",
       "    </tr>\n",
       "  </thead>\n",
       "  <tbody>\n",
       "    <tr>\n",
       "      <th>0</th>\n",
       "      <td>0_Bantamweight</td>\n",
       "      <td>0.007694</td>\n",
       "      <td>0.035954</td>\n",
       "      <td>0.026235</td>\n",
       "      <td>0.023852</td>\n",
       "      <td>0.065307</td>\n",
       "      <td>0.036496</td>\n",
       "      <td>0.165270</td>\n",
       "      <td>0.081110</td>\n",
       "      <td>0.247748</td>\n",
       "      <td>...</td>\n",
       "      <td>0.010535</td>\n",
       "      <td>0.045968</td>\n",
       "      <td>0.051408</td>\n",
       "      <td>0.191364</td>\n",
       "      <td>0.214311</td>\n",
       "      <td>0.0</td>\n",
       "      <td>0.0</td>\n",
       "      <td>0.0</td>\n",
       "      <td>1.0</td>\n",
       "      <td>0.0</td>\n",
       "    </tr>\n",
       "    <tr>\n",
       "      <th>1</th>\n",
       "      <td>1_Bantamweight</td>\n",
       "      <td>0.014229</td>\n",
       "      <td>0.008952</td>\n",
       "      <td>0.020158</td>\n",
       "      <td>0.018466</td>\n",
       "      <td>0.038206</td>\n",
       "      <td>0.025677</td>\n",
       "      <td>0.222598</td>\n",
       "      <td>0.119469</td>\n",
       "      <td>0.352413</td>\n",
       "      <td>...</td>\n",
       "      <td>0.011882</td>\n",
       "      <td>0.038255</td>\n",
       "      <td>0.032416</td>\n",
       "      <td>0.154601</td>\n",
       "      <td>0.172166</td>\n",
       "      <td>0.0</td>\n",
       "      <td>0.0</td>\n",
       "      <td>0.0</td>\n",
       "      <td>0.0</td>\n",
       "      <td>1.0</td>\n",
       "    </tr>\n",
       "    <tr>\n",
       "      <th>2</th>\n",
       "      <td>2_Bantamweight</td>\n",
       "      <td>0.013894</td>\n",
       "      <td>0.015405</td>\n",
       "      <td>0.030178</td>\n",
       "      <td>0.027136</td>\n",
       "      <td>0.043702</td>\n",
       "      <td>0.035896</td>\n",
       "      <td>0.174296</td>\n",
       "      <td>0.083057</td>\n",
       "      <td>0.256743</td>\n",
       "      <td>...</td>\n",
       "      <td>0.011352</td>\n",
       "      <td>0.036989</td>\n",
       "      <td>0.037138</td>\n",
       "      <td>0.196226</td>\n",
       "      <td>0.217063</td>\n",
       "      <td>0.0</td>\n",
       "      <td>1.0</td>\n",
       "      <td>0.0</td>\n",
       "      <td>0.0</td>\n",
       "      <td>0.0</td>\n",
       "    </tr>\n",
       "  </tbody>\n",
       "</table>\n",
       "<p>3 rows × 50 columns</p>\n",
       "</div>"
      ],
      "text/plain": [
       "  specific_cluster    avg_KD  avg_opp_KD  avg_SUB_ATT  avg_opp_SUB_ATT  \\\n",
       "0   0_Bantamweight  0.007694    0.035954     0.026235         0.023852   \n",
       "1   1_Bantamweight  0.014229    0.008952     0.020158         0.018466   \n",
       "2   2_Bantamweight  0.013894    0.015405     0.030178         0.027136   \n",
       "\n",
       "    avg_REV  avg_opp_REV  avg_SIG_STR_att  avg_SIG_STR_landed  \\\n",
       "0  0.065307     0.036496         0.165270            0.081110   \n",
       "1  0.038206     0.025677         0.222598            0.119469   \n",
       "2  0.043702     0.035896         0.174296            0.083057   \n",
       "\n",
       "   avg_opp_SIG_STR_att  ...  avg_GROUND_landed  avg_opp_GROUND_att  \\\n",
       "0             0.247748  ...           0.010535            0.045968   \n",
       "1             0.352413  ...           0.011882            0.038255   \n",
       "2             0.256743  ...           0.011352            0.036989   \n",
       "\n",
       "   avg_opp_GROUND_landed  avg_CTRL_time(seconds)  avg_opp_CTRL_time(seconds)  \\\n",
       "0               0.051408                0.191364                    0.214311   \n",
       "1               0.032416                0.154601                    0.172166   \n",
       "2               0.037138                0.196226                    0.217063   \n",
       "\n",
       "   Stance_Open Stance  Stance_Orthodox  Stance_Sideways  Stance_Southpaw  \\\n",
       "0                 0.0              0.0              0.0              1.0   \n",
       "1                 0.0              0.0              0.0              0.0   \n",
       "2                 0.0              1.0              0.0              0.0   \n",
       "\n",
       "   Stance_Switch  \n",
       "0            0.0  \n",
       "1            1.0  \n",
       "2            0.0  \n",
       "\n",
       "[3 rows x 50 columns]"
      ]
     },
     "execution_count": 15,
     "metadata": {},
     "output_type": "execute_result"
    }
   ],
   "source": [
    "selected_clusters = ['0_Bantamweight', '1_Bantamweight', '2_Bantamweight']\n",
    "filtered_data = all_fighter_cluster[all_fighter_cluster['specific_cluster'].isin(selected_clusters)]\n",
    "analytics_for_radar = filtered_data[style_dims_names_2].groupby(['specific_cluster']).mean()\n",
    "analytics_for_radar.reset_index(inplace=True)\n",
    "analytics_for_radar"
   ]
  },
  {
   "cell_type": "code",
   "execution_count": 21,
   "id": "3062eada-9ba7-445f-bbe0-4c5ce6c85ec0",
   "metadata": {
    "tags": []
   },
   "outputs": [
    {
     "name": "stdout",
     "output_type": "stream",
     "text": [
      "<class 'pandas.core.frame.DataFrame'>\n",
      "RangeIndex: 3 entries, 0 to 2\n",
      "Data columns (total 50 columns):\n",
      " #   Column                      Non-Null Count  Dtype  \n",
      "---  ------                      --------------  -----  \n",
      " 0   specific_cluster            3 non-null      object \n",
      " 1   avg_KD                      3 non-null      float64\n",
      " 2   avg_opp_KD                  3 non-null      float64\n",
      " 3   avg_SUB_ATT                 3 non-null      float64\n",
      " 4   avg_opp_SUB_ATT             3 non-null      float64\n",
      " 5   avg_REV                     3 non-null      float64\n",
      " 6   avg_opp_REV                 3 non-null      float64\n",
      " 7   avg_SIG_STR_att             3 non-null      float64\n",
      " 8   avg_SIG_STR_landed          3 non-null      float64\n",
      " 9   avg_opp_SIG_STR_att         3 non-null      float64\n",
      " 10  avg_opp_SIG_STR_landed      3 non-null      float64\n",
      " 11  avg_TOTAL_STR_att           3 non-null      float64\n",
      " 12  avg_TOTAL_STR_landed        3 non-null      float64\n",
      " 13  avg_opp_TOTAL_STR_att       3 non-null      float64\n",
      " 14  avg_opp_TOTAL_STR_landed    3 non-null      float64\n",
      " 15  avg_TD_att                  3 non-null      float64\n",
      " 16  avg_TD_landed               3 non-null      float64\n",
      " 17  avg_opp_TD_att              3 non-null      float64\n",
      " 18  avg_opp_TD_landed           3 non-null      float64\n",
      " 19  avg_HEAD_att                3 non-null      float64\n",
      " 20  avg_HEAD_landed             3 non-null      float64\n",
      " 21  avg_opp_HEAD_att            3 non-null      float64\n",
      " 22  avg_opp_HEAD_landed         3 non-null      float64\n",
      " 23  avg_BODY_att                3 non-null      float64\n",
      " 24  avg_BODY_landed             3 non-null      float64\n",
      " 25  avg_opp_BODY_att            3 non-null      float64\n",
      " 26  avg_opp_BODY_landed         3 non-null      float64\n",
      " 27  avg_LEG_att                 3 non-null      float64\n",
      " 28  avg_LEG_landed              3 non-null      float64\n",
      " 29  avg_opp_LEG_att             3 non-null      float64\n",
      " 30  avg_opp_LEG_landed          3 non-null      float64\n",
      " 31  avg_DISTANCE_att            3 non-null      float64\n",
      " 32  avg_DISTANCE_landed         3 non-null      float64\n",
      " 33  avg_opp_DISTANCE_att        3 non-null      float64\n",
      " 34  avg_opp_DISTANCE_landed     3 non-null      float64\n",
      " 35  avg_CLINCH_att              3 non-null      float64\n",
      " 36  avg_CLINCH_landed           3 non-null      float64\n",
      " 37  avg_opp_CLINCH_att          3 non-null      float64\n",
      " 38  avg_opp_CLINCH_landed       3 non-null      float64\n",
      " 39  avg_GROUND_att              3 non-null      float64\n",
      " 40  avg_GROUND_landed           3 non-null      float64\n",
      " 41  avg_opp_GROUND_att          3 non-null      float64\n",
      " 42  avg_opp_GROUND_landed       3 non-null      float64\n",
      " 43  avg_CTRL_time(seconds)      3 non-null      float64\n",
      " 44  avg_opp_CTRL_time(seconds)  3 non-null      float64\n",
      " 45  Stance_Open Stance          3 non-null      float64\n",
      " 46  Stance_Orthodox             3 non-null      float64\n",
      " 47  Stance_Sideways             3 non-null      float64\n",
      " 48  Stance_Southpaw             3 non-null      float64\n",
      " 49  Stance_Switch               3 non-null      float64\n",
      "dtypes: float64(49), object(1)\n",
      "memory usage: 1.3+ KB\n"
     ]
    }
   ],
   "source": [
    "analytics_for_radar.info()"
   ]
  },
  {
   "cell_type": "code",
   "execution_count": 36,
   "id": "8b18d597-469b-4968-af9b-1da53a066eeb",
   "metadata": {
    "tags": []
   },
   "outputs": [
    {
     "data": {
      "application/vnd.plotly.v1+json": {
       "config": {
        "plotlyServerURL": "https://plot.ly"
       },
       "data": [
        {
         "fill": "toself",
         "line": {
          "width": 0.8
         },
         "name": "0_Bantamweight",
         "opacity": 0.5,
         "r": [
          0.007694480995857074,
          0.03595350301106552,
          0.026235169993306356,
          0.02385167036300622,
          0.06530678821726678,
          0.0364959059775669,
          0.16526992348919525,
          0.08111028991795555,
          0.24774787060137737,
          0.17964043104634225,
          0.15462299956240622,
          0.08629173251784539,
          0.27596644105559087,
          0.2524808934198825,
          0.08257561321582453,
          0.04898394612968407,
          0.2145251215972251,
          0.08579270259189489,
          0.1336160110726604,
          0.05230382307090662,
          0.20699779984022393,
          0.12482810301648739,
          0.17484242201701586,
          0.11958598202161258,
          0.06427725305630175,
          0.04484217179618003,
          0.12156366949083831,
          0.1363295312332581,
          0.09343547641040695,
          0.12048150531943752,
          0.28110524060208086,
          0.18346256332714636,
          0.23827785912520327,
          0.17231416331226987,
          0.07065903029329729,
          0.05840646662803728,
          0.038615520380563796,
          0.028253790870432064,
          0.012459485299443282,
          0.010535318339991277,
          0.04596801105621804,
          0.05140764880264964,
          0.19136444177738343,
          0.21431112408629313,
          0,
          0,
          0,
          1,
          0
         ],
         "theta": [
          "avg_KD",
          "avg_opp_KD",
          "avg_SUB_ATT",
          "avg_opp_SUB_ATT",
          "avg_REV",
          "avg_opp_REV",
          "avg_SIG_STR_att",
          "avg_SIG_STR_landed",
          "avg_opp_SIG_STR_att",
          "avg_opp_SIG_STR_landed",
          "avg_TOTAL_STR_att",
          "avg_TOTAL_STR_landed",
          "avg_opp_TOTAL_STR_att",
          "avg_opp_TOTAL_STR_landed",
          "avg_TD_att",
          "avg_TD_landed",
          "avg_opp_TD_att",
          "avg_opp_TD_landed",
          "avg_HEAD_att",
          "avg_HEAD_landed",
          "avg_opp_HEAD_att",
          "avg_opp_HEAD_landed",
          "avg_BODY_att",
          "avg_BODY_landed",
          "avg_opp_BODY_att",
          "avg_opp_BODY_landed",
          "avg_LEG_att",
          "avg_LEG_landed",
          "avg_opp_LEG_att",
          "avg_opp_LEG_landed",
          "avg_DISTANCE_att",
          "avg_DISTANCE_landed",
          "avg_opp_DISTANCE_att",
          "avg_opp_DISTANCE_landed",
          "avg_CLINCH_att",
          "avg_CLINCH_landed",
          "avg_opp_CLINCH_att",
          "avg_opp_CLINCH_landed",
          "avg_GROUND_att",
          "avg_GROUND_landed",
          "avg_opp_GROUND_att",
          "avg_opp_GROUND_landed",
          "avg_CTRL_time(seconds)",
          "avg_opp_CTRL_time(seconds)",
          "Stance_Open Stance",
          "Stance_Orthodox",
          "Stance_Sideways",
          "Stance_Southpaw",
          "Stance_Switch"
         ],
         "type": "scatterpolar"
        },
        {
         "fill": "toself",
         "line": {
          "width": 0.8
         },
         "name": "1_Bantamweight",
         "opacity": 0.5,
         "r": [
          0.014229308261605213,
          0.0089524176301752,
          0.02015845503976159,
          0.018465985659535,
          0.03820592686054611,
          0.02567654463917996,
          0.22259844542852505,
          0.11946947584128702,
          0.3524131206233352,
          0.23158311272941232,
          0.1960757115671182,
          0.11202612380558313,
          0.34956362743930847,
          0.2717441890454315,
          0.07487231385181746,
          0.04221783142295683,
          0.1561668311794538,
          0.06570454389866273,
          0.17170429393300413,
          0.07572131939877995,
          0.2840203641982727,
          0.14255130745981012,
          0.2931872116406261,
          0.19595941436296505,
          0.10162622427041704,
          0.06840484220459483,
          0.16758199912395388,
          0.18411731282103075,
          0.14981798655599185,
          0.19571607582440018,
          0.39129771087302107,
          0.2945824674672585,
          0.3665972897418155,
          0.25574740062942714,
          0.07213214402610946,
          0.06175365600110792,
          0.04175551038060571,
          0.03117538722025398,
          0.014738945381655544,
          0.0118823448297395,
          0.038254657758180995,
          0.032416409513862966,
          0.1546013932327142,
          0.1721663158997973,
          0,
          0,
          0,
          0,
          1
         ],
         "theta": [
          "avg_KD",
          "avg_opp_KD",
          "avg_SUB_ATT",
          "avg_opp_SUB_ATT",
          "avg_REV",
          "avg_opp_REV",
          "avg_SIG_STR_att",
          "avg_SIG_STR_landed",
          "avg_opp_SIG_STR_att",
          "avg_opp_SIG_STR_landed",
          "avg_TOTAL_STR_att",
          "avg_TOTAL_STR_landed",
          "avg_opp_TOTAL_STR_att",
          "avg_opp_TOTAL_STR_landed",
          "avg_TD_att",
          "avg_TD_landed",
          "avg_opp_TD_att",
          "avg_opp_TD_landed",
          "avg_HEAD_att",
          "avg_HEAD_landed",
          "avg_opp_HEAD_att",
          "avg_opp_HEAD_landed",
          "avg_BODY_att",
          "avg_BODY_landed",
          "avg_opp_BODY_att",
          "avg_opp_BODY_landed",
          "avg_LEG_att",
          "avg_LEG_landed",
          "avg_opp_LEG_att",
          "avg_opp_LEG_landed",
          "avg_DISTANCE_att",
          "avg_DISTANCE_landed",
          "avg_opp_DISTANCE_att",
          "avg_opp_DISTANCE_landed",
          "avg_CLINCH_att",
          "avg_CLINCH_landed",
          "avg_opp_CLINCH_att",
          "avg_opp_CLINCH_landed",
          "avg_GROUND_att",
          "avg_GROUND_landed",
          "avg_opp_GROUND_att",
          "avg_opp_GROUND_landed",
          "avg_CTRL_time(seconds)",
          "avg_opp_CTRL_time(seconds)",
          "Stance_Open Stance",
          "Stance_Orthodox",
          "Stance_Sideways",
          "Stance_Southpaw",
          "Stance_Switch"
         ],
         "type": "scatterpolar"
        },
        {
         "fill": "toself",
         "line": {
          "width": 0.8
         },
         "name": "2_Bantamweight",
         "opacity": 0.5,
         "r": [
          0.013894496316260461,
          0.015405087554906558,
          0.030178077041349553,
          0.027135717542191184,
          0.0437022751580562,
          0.03589566565642499,
          0.1742955886207008,
          0.08305725255026342,
          0.2567429685000162,
          0.16049667087994268,
          0.16369652137304463,
          0.0902774823181938,
          0.2749553066278761,
          0.22128743952209762,
          0.1014409727837899,
          0.0588679946259992,
          0.1897636105635773,
          0.08163047033034995,
          0.14181858544613185,
          0.05501645611567713,
          0.2198285075974664,
          0.10972950624179582,
          0.1764853040427854,
          0.1135654829487707,
          0.06301984726834181,
          0.041545760389483544,
          0.1294754893084209,
          0.13884992630602447,
          0.08499832899936416,
          0.1101337759467717,
          0.29690872372254457,
          0.19018255539208603,
          0.2563241541878861,
          0.16128072341150096,
          0.06691769630056123,
          0.05285409913544404,
          0.03738883139718699,
          0.02534006144668508,
          0.01440530368408172,
          0.011352293568290707,
          0.036988723251725426,
          0.03713816917151483,
          0.1962255081782216,
          0.21706349255680107,
          0,
          1,
          0,
          0,
          0
         ],
         "theta": [
          "avg_KD",
          "avg_opp_KD",
          "avg_SUB_ATT",
          "avg_opp_SUB_ATT",
          "avg_REV",
          "avg_opp_REV",
          "avg_SIG_STR_att",
          "avg_SIG_STR_landed",
          "avg_opp_SIG_STR_att",
          "avg_opp_SIG_STR_landed",
          "avg_TOTAL_STR_att",
          "avg_TOTAL_STR_landed",
          "avg_opp_TOTAL_STR_att",
          "avg_opp_TOTAL_STR_landed",
          "avg_TD_att",
          "avg_TD_landed",
          "avg_opp_TD_att",
          "avg_opp_TD_landed",
          "avg_HEAD_att",
          "avg_HEAD_landed",
          "avg_opp_HEAD_att",
          "avg_opp_HEAD_landed",
          "avg_BODY_att",
          "avg_BODY_landed",
          "avg_opp_BODY_att",
          "avg_opp_BODY_landed",
          "avg_LEG_att",
          "avg_LEG_landed",
          "avg_opp_LEG_att",
          "avg_opp_LEG_landed",
          "avg_DISTANCE_att",
          "avg_DISTANCE_landed",
          "avg_opp_DISTANCE_att",
          "avg_opp_DISTANCE_landed",
          "avg_CLINCH_att",
          "avg_CLINCH_landed",
          "avg_opp_CLINCH_att",
          "avg_opp_CLINCH_landed",
          "avg_GROUND_att",
          "avg_GROUND_landed",
          "avg_opp_GROUND_att",
          "avg_opp_GROUND_landed",
          "avg_CTRL_time(seconds)",
          "avg_opp_CTRL_time(seconds)",
          "Stance_Open Stance",
          "Stance_Orthodox",
          "Stance_Sideways",
          "Stance_Southpaw",
          "Stance_Switch"
         ],
         "type": "scatterpolar"
        }
       ],
       "layout": {
        "height": 1000,
        "polar": {
         "angularaxis": {
          "direction": "counterclockwise",
          "rotation": 90,
          "type": "category"
         },
         "radialaxis": {
          "autorange": false,
          "range": [
           0,
           1
          ],
          "type": "linear",
          "visible": true
         }
        },
        "showlegend": true,
        "template": {
         "data": {
          "bar": [
           {
            "error_x": {
             "color": "#2a3f5f"
            },
            "error_y": {
             "color": "#2a3f5f"
            },
            "marker": {
             "line": {
              "color": "#E5ECF6",
              "width": 0.5
             },
             "pattern": {
              "fillmode": "overlay",
              "size": 10,
              "solidity": 0.2
             }
            },
            "type": "bar"
           }
          ],
          "barpolar": [
           {
            "marker": {
             "line": {
              "color": "#E5ECF6",
              "width": 0.5
             },
             "pattern": {
              "fillmode": "overlay",
              "size": 10,
              "solidity": 0.2
             }
            },
            "type": "barpolar"
           }
          ],
          "carpet": [
           {
            "aaxis": {
             "endlinecolor": "#2a3f5f",
             "gridcolor": "white",
             "linecolor": "white",
             "minorgridcolor": "white",
             "startlinecolor": "#2a3f5f"
            },
            "baxis": {
             "endlinecolor": "#2a3f5f",
             "gridcolor": "white",
             "linecolor": "white",
             "minorgridcolor": "white",
             "startlinecolor": "#2a3f5f"
            },
            "type": "carpet"
           }
          ],
          "choropleth": [
           {
            "colorbar": {
             "outlinewidth": 0,
             "ticks": ""
            },
            "type": "choropleth"
           }
          ],
          "contour": [
           {
            "colorbar": {
             "outlinewidth": 0,
             "ticks": ""
            },
            "colorscale": [
             [
              0,
              "#0d0887"
             ],
             [
              0.1111111111111111,
              "#46039f"
             ],
             [
              0.2222222222222222,
              "#7201a8"
             ],
             [
              0.3333333333333333,
              "#9c179e"
             ],
             [
              0.4444444444444444,
              "#bd3786"
             ],
             [
              0.5555555555555556,
              "#d8576b"
             ],
             [
              0.6666666666666666,
              "#ed7953"
             ],
             [
              0.7777777777777778,
              "#fb9f3a"
             ],
             [
              0.8888888888888888,
              "#fdca26"
             ],
             [
              1,
              "#f0f921"
             ]
            ],
            "type": "contour"
           }
          ],
          "contourcarpet": [
           {
            "colorbar": {
             "outlinewidth": 0,
             "ticks": ""
            },
            "type": "contourcarpet"
           }
          ],
          "heatmap": [
           {
            "colorbar": {
             "outlinewidth": 0,
             "ticks": ""
            },
            "colorscale": [
             [
              0,
              "#0d0887"
             ],
             [
              0.1111111111111111,
              "#46039f"
             ],
             [
              0.2222222222222222,
              "#7201a8"
             ],
             [
              0.3333333333333333,
              "#9c179e"
             ],
             [
              0.4444444444444444,
              "#bd3786"
             ],
             [
              0.5555555555555556,
              "#d8576b"
             ],
             [
              0.6666666666666666,
              "#ed7953"
             ],
             [
              0.7777777777777778,
              "#fb9f3a"
             ],
             [
              0.8888888888888888,
              "#fdca26"
             ],
             [
              1,
              "#f0f921"
             ]
            ],
            "type": "heatmap"
           }
          ],
          "heatmapgl": [
           {
            "colorbar": {
             "outlinewidth": 0,
             "ticks": ""
            },
            "colorscale": [
             [
              0,
              "#0d0887"
             ],
             [
              0.1111111111111111,
              "#46039f"
             ],
             [
              0.2222222222222222,
              "#7201a8"
             ],
             [
              0.3333333333333333,
              "#9c179e"
             ],
             [
              0.4444444444444444,
              "#bd3786"
             ],
             [
              0.5555555555555556,
              "#d8576b"
             ],
             [
              0.6666666666666666,
              "#ed7953"
             ],
             [
              0.7777777777777778,
              "#fb9f3a"
             ],
             [
              0.8888888888888888,
              "#fdca26"
             ],
             [
              1,
              "#f0f921"
             ]
            ],
            "type": "heatmapgl"
           }
          ],
          "histogram": [
           {
            "marker": {
             "pattern": {
              "fillmode": "overlay",
              "size": 10,
              "solidity": 0.2
             }
            },
            "type": "histogram"
           }
          ],
          "histogram2d": [
           {
            "colorbar": {
             "outlinewidth": 0,
             "ticks": ""
            },
            "colorscale": [
             [
              0,
              "#0d0887"
             ],
             [
              0.1111111111111111,
              "#46039f"
             ],
             [
              0.2222222222222222,
              "#7201a8"
             ],
             [
              0.3333333333333333,
              "#9c179e"
             ],
             [
              0.4444444444444444,
              "#bd3786"
             ],
             [
              0.5555555555555556,
              "#d8576b"
             ],
             [
              0.6666666666666666,
              "#ed7953"
             ],
             [
              0.7777777777777778,
              "#fb9f3a"
             ],
             [
              0.8888888888888888,
              "#fdca26"
             ],
             [
              1,
              "#f0f921"
             ]
            ],
            "type": "histogram2d"
           }
          ],
          "histogram2dcontour": [
           {
            "colorbar": {
             "outlinewidth": 0,
             "ticks": ""
            },
            "colorscale": [
             [
              0,
              "#0d0887"
             ],
             [
              0.1111111111111111,
              "#46039f"
             ],
             [
              0.2222222222222222,
              "#7201a8"
             ],
             [
              0.3333333333333333,
              "#9c179e"
             ],
             [
              0.4444444444444444,
              "#bd3786"
             ],
             [
              0.5555555555555556,
              "#d8576b"
             ],
             [
              0.6666666666666666,
              "#ed7953"
             ],
             [
              0.7777777777777778,
              "#fb9f3a"
             ],
             [
              0.8888888888888888,
              "#fdca26"
             ],
             [
              1,
              "#f0f921"
             ]
            ],
            "type": "histogram2dcontour"
           }
          ],
          "mesh3d": [
           {
            "colorbar": {
             "outlinewidth": 0,
             "ticks": ""
            },
            "type": "mesh3d"
           }
          ],
          "parcoords": [
           {
            "line": {
             "colorbar": {
              "outlinewidth": 0,
              "ticks": ""
             }
            },
            "type": "parcoords"
           }
          ],
          "pie": [
           {
            "automargin": true,
            "type": "pie"
           }
          ],
          "scatter": [
           {
            "fillpattern": {
             "fillmode": "overlay",
             "size": 10,
             "solidity": 0.2
            },
            "type": "scatter"
           }
          ],
          "scatter3d": [
           {
            "line": {
             "colorbar": {
              "outlinewidth": 0,
              "ticks": ""
             }
            },
            "marker": {
             "colorbar": {
              "outlinewidth": 0,
              "ticks": ""
             }
            },
            "type": "scatter3d"
           }
          ],
          "scattercarpet": [
           {
            "marker": {
             "colorbar": {
              "outlinewidth": 0,
              "ticks": ""
             }
            },
            "type": "scattercarpet"
           }
          ],
          "scattergeo": [
           {
            "marker": {
             "colorbar": {
              "outlinewidth": 0,
              "ticks": ""
             }
            },
            "type": "scattergeo"
           }
          ],
          "scattergl": [
           {
            "marker": {
             "colorbar": {
              "outlinewidth": 0,
              "ticks": ""
             }
            },
            "type": "scattergl"
           }
          ],
          "scattermapbox": [
           {
            "marker": {
             "colorbar": {
              "outlinewidth": 0,
              "ticks": ""
             }
            },
            "type": "scattermapbox"
           }
          ],
          "scatterpolar": [
           {
            "marker": {
             "colorbar": {
              "outlinewidth": 0,
              "ticks": ""
             }
            },
            "type": "scatterpolar"
           }
          ],
          "scatterpolargl": [
           {
            "marker": {
             "colorbar": {
              "outlinewidth": 0,
              "ticks": ""
             }
            },
            "type": "scatterpolargl"
           }
          ],
          "scatterternary": [
           {
            "marker": {
             "colorbar": {
              "outlinewidth": 0,
              "ticks": ""
             }
            },
            "type": "scatterternary"
           }
          ],
          "surface": [
           {
            "colorbar": {
             "outlinewidth": 0,
             "ticks": ""
            },
            "colorscale": [
             [
              0,
              "#0d0887"
             ],
             [
              0.1111111111111111,
              "#46039f"
             ],
             [
              0.2222222222222222,
              "#7201a8"
             ],
             [
              0.3333333333333333,
              "#9c179e"
             ],
             [
              0.4444444444444444,
              "#bd3786"
             ],
             [
              0.5555555555555556,
              "#d8576b"
             ],
             [
              0.6666666666666666,
              "#ed7953"
             ],
             [
              0.7777777777777778,
              "#fb9f3a"
             ],
             [
              0.8888888888888888,
              "#fdca26"
             ],
             [
              1,
              "#f0f921"
             ]
            ],
            "type": "surface"
           }
          ],
          "table": [
           {
            "cells": {
             "fill": {
              "color": "#EBF0F8"
             },
             "line": {
              "color": "white"
             }
            },
            "header": {
             "fill": {
              "color": "#C8D4E3"
             },
             "line": {
              "color": "white"
             }
            },
            "type": "table"
           }
          ]
         },
         "layout": {
          "annotationdefaults": {
           "arrowcolor": "#2a3f5f",
           "arrowhead": 0,
           "arrowwidth": 1
          },
          "autotypenumbers": "strict",
          "coloraxis": {
           "colorbar": {
            "outlinewidth": 0,
            "ticks": ""
           }
          },
          "colorscale": {
           "diverging": [
            [
             0,
             "#8e0152"
            ],
            [
             0.1,
             "#c51b7d"
            ],
            [
             0.2,
             "#de77ae"
            ],
            [
             0.3,
             "#f1b6da"
            ],
            [
             0.4,
             "#fde0ef"
            ],
            [
             0.5,
             "#f7f7f7"
            ],
            [
             0.6,
             "#e6f5d0"
            ],
            [
             0.7,
             "#b8e186"
            ],
            [
             0.8,
             "#7fbc41"
            ],
            [
             0.9,
             "#4d9221"
            ],
            [
             1,
             "#276419"
            ]
           ],
           "sequential": [
            [
             0,
             "#0d0887"
            ],
            [
             0.1111111111111111,
             "#46039f"
            ],
            [
             0.2222222222222222,
             "#7201a8"
            ],
            [
             0.3333333333333333,
             "#9c179e"
            ],
            [
             0.4444444444444444,
             "#bd3786"
            ],
            [
             0.5555555555555556,
             "#d8576b"
            ],
            [
             0.6666666666666666,
             "#ed7953"
            ],
            [
             0.7777777777777778,
             "#fb9f3a"
            ],
            [
             0.8888888888888888,
             "#fdca26"
            ],
            [
             1,
             "#f0f921"
            ]
           ],
           "sequentialminus": [
            [
             0,
             "#0d0887"
            ],
            [
             0.1111111111111111,
             "#46039f"
            ],
            [
             0.2222222222222222,
             "#7201a8"
            ],
            [
             0.3333333333333333,
             "#9c179e"
            ],
            [
             0.4444444444444444,
             "#bd3786"
            ],
            [
             0.5555555555555556,
             "#d8576b"
            ],
            [
             0.6666666666666666,
             "#ed7953"
            ],
            [
             0.7777777777777778,
             "#fb9f3a"
            ],
            [
             0.8888888888888888,
             "#fdca26"
            ],
            [
             1,
             "#f0f921"
            ]
           ]
          },
          "colorway": [
           "#636efa",
           "#EF553B",
           "#00cc96",
           "#ab63fa",
           "#FFA15A",
           "#19d3f3",
           "#FF6692",
           "#B6E880",
           "#FF97FF",
           "#FECB52"
          ],
          "font": {
           "color": "#2a3f5f"
          },
          "geo": {
           "bgcolor": "white",
           "lakecolor": "white",
           "landcolor": "#E5ECF6",
           "showlakes": true,
           "showland": true,
           "subunitcolor": "white"
          },
          "hoverlabel": {
           "align": "left"
          },
          "hovermode": "closest",
          "mapbox": {
           "style": "light"
          },
          "paper_bgcolor": "white",
          "plot_bgcolor": "#E5ECF6",
          "polar": {
           "angularaxis": {
            "gridcolor": "white",
            "linecolor": "white",
            "ticks": ""
           },
           "bgcolor": "#E5ECF6",
           "radialaxis": {
            "gridcolor": "white",
            "linecolor": "white",
            "ticks": ""
           }
          },
          "scene": {
           "xaxis": {
            "backgroundcolor": "#E5ECF6",
            "gridcolor": "white",
            "gridwidth": 2,
            "linecolor": "white",
            "showbackground": true,
            "ticks": "",
            "zerolinecolor": "white"
           },
           "yaxis": {
            "backgroundcolor": "#E5ECF6",
            "gridcolor": "white",
            "gridwidth": 2,
            "linecolor": "white",
            "showbackground": true,
            "ticks": "",
            "zerolinecolor": "white"
           },
           "zaxis": {
            "backgroundcolor": "#E5ECF6",
            "gridcolor": "white",
            "gridwidth": 2,
            "linecolor": "white",
            "showbackground": true,
            "ticks": "",
            "zerolinecolor": "white"
           }
          },
          "shapedefaults": {
           "line": {
            "color": "#2a3f5f"
           }
          },
          "ternary": {
           "aaxis": {
            "gridcolor": "white",
            "linecolor": "white",
            "ticks": ""
           },
           "baxis": {
            "gridcolor": "white",
            "linecolor": "white",
            "ticks": ""
           },
           "bgcolor": "#E5ECF6",
           "caxis": {
            "gridcolor": "white",
            "linecolor": "white",
            "ticks": ""
           }
          },
          "title": {
           "x": 0.05
          },
          "xaxis": {
           "automargin": true,
           "gridcolor": "white",
           "linecolor": "white",
           "ticks": "",
           "title": {
            "standoff": 15
           },
           "zerolinecolor": "white",
           "zerolinewidth": 2
          },
          "yaxis": {
           "automargin": true,
           "gridcolor": "white",
           "linecolor": "white",
           "ticks": "",
           "title": {
            "standoff": 15
           },
           "zerolinecolor": "white",
           "zerolinewidth": 2
          }
         }
        },
        "width": 1400
       }
      },
      "image/png": "[encoded data removed]",
      "text/html": [
       "<div>                            <div id=\"cfcbac1b-7ed3-43b3-b8df-bc3a5b54c047\" class=\"plotly-graph-div\" style=\"height:1000px; width:1400px;\"></div>            <script type=\"text/javascript\">                require([\"plotly\"], function(Plotly) {                    window.PLOTLYENV=window.PLOTLYENV || {};                                    if (document.getElementById(\"cfcbac1b-7ed3-43b3-b8df-bc3a5b54c047\")) {                    Plotly.newPlot(                        \"cfcbac1b-7ed3-43b3-b8df-bc3a5b54c047\",                        [{\"fill\":\"toself\",\"line\":{\"width\":0.8},\"name\":\"0_Bantamweight\",\"opacity\":0.5,\"r\":[0.007694480995857074,0.03595350301106552,0.026235169993306356,0.02385167036300622,0.06530678821726678,0.0364959059775669,0.16526992348919525,0.08111028991795555,0.24774787060137737,0.17964043104634225,0.15462299956240622,0.08629173251784539,0.27596644105559087,0.2524808934198825,0.08257561321582453,0.04898394612968407,0.2145251215972251,0.08579270259189489,0.1336160110726604,0.05230382307090662,0.20699779984022393,0.12482810301648739,0.17484242201701586,0.11958598202161258,0.06427725305630175,0.04484217179618003,0.12156366949083831,0.1363295312332581,0.09343547641040695,0.12048150531943752,0.28110524060208086,0.18346256332714636,0.23827785912520327,0.17231416331226987,0.07065903029329729,0.05840646662803728,0.038615520380563796,0.028253790870432064,0.012459485299443282,0.010535318339991277,0.04596801105621804,0.05140764880264964,0.19136444177738343,0.21431112408629313,0.0,0.0,0.0,1.0,0.0],\"theta\":[\"avg_KD\",\"avg_opp_KD\",\"avg_SUB_ATT\",\"avg_opp_SUB_ATT\",\"avg_REV\",\"avg_opp_REV\",\"avg_SIG_STR_att\",\"avg_SIG_STR_landed\",\"avg_opp_SIG_STR_att\",\"avg_opp_SIG_STR_landed\",\"avg_TOTAL_STR_att\",\"avg_TOTAL_STR_landed\",\"avg_opp_TOTAL_STR_att\",\"avg_opp_TOTAL_STR_landed\",\"avg_TD_att\",\"avg_TD_landed\",\"avg_opp_TD_att\",\"avg_opp_TD_landed\",\"avg_HEAD_att\",\"avg_HEAD_landed\",\"avg_opp_HEAD_att\",\"avg_opp_HEAD_landed\",\"avg_BODY_att\",\"avg_BODY_landed\",\"avg_opp_BODY_att\",\"avg_opp_BODY_landed\",\"avg_LEG_att\",\"avg_LEG_landed\",\"avg_opp_LEG_att\",\"avg_opp_LEG_landed\",\"avg_DISTANCE_att\",\"avg_DISTANCE_landed\",\"avg_opp_DISTANCE_att\",\"avg_opp_DISTANCE_landed\",\"avg_CLINCH_att\",\"avg_CLINCH_landed\",\"avg_opp_CLINCH_att\",\"avg_opp_CLINCH_landed\",\"avg_GROUND_att\",\"avg_GROUND_landed\",\"avg_opp_GROUND_att\",\"avg_opp_GROUND_landed\",\"avg_CTRL_time(seconds)\",\"avg_opp_CTRL_time(seconds)\",\"Stance_Open Stance\",\"Stance_Orthodox\",\"Stance_Sideways\",\"Stance_Southpaw\",\"Stance_Switch\"],\"type\":\"scatterpolar\"},{\"fill\":\"toself\",\"line\":{\"width\":0.8},\"name\":\"1_Bantamweight\",\"opacity\":0.5,\"r\":[0.014229308261605213,0.0089524176301752,0.02015845503976159,0.018465985659535,0.03820592686054611,0.02567654463917996,0.22259844542852505,0.11946947584128702,0.3524131206233352,0.23158311272941232,0.1960757115671182,0.11202612380558313,0.34956362743930847,0.2717441890454315,0.07487231385181746,0.04221783142295683,0.1561668311794538,0.06570454389866273,0.17170429393300413,0.07572131939877995,0.2840203641982727,0.14255130745981012,0.2931872116406261,0.19595941436296505,0.10162622427041704,0.06840484220459483,0.16758199912395388,0.18411731282103075,0.14981798655599185,0.19571607582440018,0.39129771087302107,0.2945824674672585,0.3665972897418155,0.25574740062942714,0.07213214402610946,0.06175365600110792,0.04175551038060571,0.03117538722025398,0.014738945381655544,0.0118823448297395,0.038254657758180995,0.032416409513862966,0.1546013932327142,0.1721663158997973,0.0,0.0,0.0,0.0,1.0],\"theta\":[\"avg_KD\",\"avg_opp_KD\",\"avg_SUB_ATT\",\"avg_opp_SUB_ATT\",\"avg_REV\",\"avg_opp_REV\",\"avg_SIG_STR_att\",\"avg_SIG_STR_landed\",\"avg_opp_SIG_STR_att\",\"avg_opp_SIG_STR_landed\",\"avg_TOTAL_STR_att\",\"avg_TOTAL_STR_landed\",\"avg_opp_TOTAL_STR_att\",\"avg_opp_TOTAL_STR_landed\",\"avg_TD_att\",\"avg_TD_landed\",\"avg_opp_TD_att\",\"avg_opp_TD_landed\",\"avg_HEAD_att\",\"avg_HEAD_landed\",\"avg_opp_HEAD_att\",\"avg_opp_HEAD_landed\",\"avg_BODY_att\",\"avg_BODY_landed\",\"avg_opp_BODY_att\",\"avg_opp_BODY_landed\",\"avg_LEG_att\",\"avg_LEG_landed\",\"avg_opp_LEG_att\",\"avg_opp_LEG_landed\",\"avg_DISTANCE_att\",\"avg_DISTANCE_landed\",\"avg_opp_DISTANCE_att\",\"avg_opp_DISTANCE_landed\",\"avg_CLINCH_att\",\"avg_CLINCH_landed\",\"avg_opp_CLINCH_att\",\"avg_opp_CLINCH_landed\",\"avg_GROUND_att\",\"avg_GROUND_landed\",\"avg_opp_GROUND_att\",\"avg_opp_GROUND_landed\",\"avg_CTRL_time(seconds)\",\"avg_opp_CTRL_time(seconds)\",\"Stance_Open Stance\",\"Stance_Orthodox\",\"Stance_Sideways\",\"Stance_Southpaw\",\"Stance_Switch\"],\"type\":\"scatterpolar\"},{\"fill\":\"toself\",\"line\":{\"width\":0.8},\"name\":\"2_Bantamweight\",\"opacity\":0.5,\"r\":[0.013894496316260461,0.015405087554906558,0.030178077041349553,0.027135717542191184,0.0437022751580562,0.03589566565642499,0.1742955886207008,0.08305725255026342,0.2567429685000162,0.16049667087994268,0.16369652137304463,0.0902774823181938,0.2749553066278761,0.22128743952209762,0.1014409727837899,0.0588679946259992,0.1897636105635773,0.08163047033034995,0.14181858544613185,0.05501645611567713,0.2198285075974664,0.10972950624179582,0.1764853040427854,0.1135654829487707,0.06301984726834181,0.041545760389483544,0.1294754893084209,0.13884992630602447,0.08499832899936416,0.1101337759467717,0.29690872372254457,0.19018255539208603,0.2563241541878861,0.16128072341150096,0.06691769630056123,0.05285409913544404,0.03738883139718699,0.02534006144668508,0.01440530368408172,0.011352293568290707,0.036988723251725426,0.03713816917151483,0.1962255081782216,0.21706349255680107,0.0,1.0,0.0,0.0,0.0],\"theta\":[\"avg_KD\",\"avg_opp_KD\",\"avg_SUB_ATT\",\"avg_opp_SUB_ATT\",\"avg_REV\",\"avg_opp_REV\",\"avg_SIG_STR_att\",\"avg_SIG_STR_landed\",\"avg_opp_SIG_STR_att\",\"avg_opp_SIG_STR_landed\",\"avg_TOTAL_STR_att\",\"avg_TOTAL_STR_landed\",\"avg_opp_TOTAL_STR_att\",\"avg_opp_TOTAL_STR_landed\",\"avg_TD_att\",\"avg_TD_landed\",\"avg_opp_TD_att\",\"avg_opp_TD_landed\",\"avg_HEAD_att\",\"avg_HEAD_landed\",\"avg_opp_HEAD_att\",\"avg_opp_HEAD_landed\",\"avg_BODY_att\",\"avg_BODY_landed\",\"avg_opp_BODY_att\",\"avg_opp_BODY_landed\",\"avg_LEG_att\",\"avg_LEG_landed\",\"avg_opp_LEG_att\",\"avg_opp_LEG_landed\",\"avg_DISTANCE_att\",\"avg_DISTANCE_landed\",\"avg_opp_DISTANCE_att\",\"avg_opp_DISTANCE_landed\",\"avg_CLINCH_att\",\"avg_CLINCH_landed\",\"avg_opp_CLINCH_att\",\"avg_opp_CLINCH_landed\",\"avg_GROUND_att\",\"avg_GROUND_landed\",\"avg_opp_GROUND_att\",\"avg_opp_GROUND_landed\",\"avg_CTRL_time(seconds)\",\"avg_opp_CTRL_time(seconds)\",\"Stance_Open Stance\",\"Stance_Orthodox\",\"Stance_Sideways\",\"Stance_Southpaw\",\"Stance_Switch\"],\"type\":\"scatterpolar\"}],                        {\"template\":{\"data\":{\"histogram2dcontour\":[{\"type\":\"histogram2dcontour\",\"colorbar\":{\"outlinewidth\":0,\"ticks\":\"\"},\"colorscale\":[[0.0,\"#0d0887\"],[0.1111111111111111,\"#46039f\"],[0.2222222222222222,\"#7201a8\"],[0.3333333333333333,\"#9c179e\"],[0.4444444444444444,\"#bd3786\"],[0.5555555555555556,\"#d8576b\"],[0.6666666666666666,\"#ed7953\"],[0.7777777777777778,\"#fb9f3a\"],[0.8888888888888888,\"#fdca26\"],[1.0,\"#f0f921\"]]}],\"choropleth\":[{\"type\":\"choropleth\",\"colorbar\":{\"outlinewidth\":0,\"ticks\":\"\"}}],\"histogram2d\":[{\"type\":\"histogram2d\",\"colorbar\":{\"outlinewidth\":0,\"ticks\":\"\"},\"colorscale\":[[0.0,\"#0d0887\"],[0.1111111111111111,\"#46039f\"],[0.2222222222222222,\"#7201a8\"],[0.3333333333333333,\"#9c179e\"],[0.4444444444444444,\"#bd3786\"],[0.5555555555555556,\"#d8576b\"],[0.6666666666666666,\"#ed7953\"],[0.7777777777777778,\"#fb9f3a\"],[0.8888888888888888,\"#fdca26\"],[1.0,\"#f0f921\"]]}],\"heatmap\":[{\"type\":\"heatmap\",\"colorbar\":{\"outlinewidth\":0,\"ticks\":\"\"},\"colorscale\":[[0.0,\"#0d0887\"],[0.1111111111111111,\"#46039f\"],[0.2222222222222222,\"#7201a8\"],[0.3333333333333333,\"#9c179e\"],[0.4444444444444444,\"#bd3786\"],[0.5555555555555556,\"#d8576b\"],[0.6666666666666666,\"#ed7953\"],[0.7777777777777778,\"#fb9f3a\"],[0.8888888888888888,\"#fdca26\"],[1.0,\"#f0f921\"]]}],\"heatmapgl\":[{\"type\":\"heatmapgl\",\"colorbar\":{\"outlinewidth\":0,\"ticks\":\"\"},\"colorscale\":[[0.0,\"#0d0887\"],[0.1111111111111111,\"#46039f\"],[0.2222222222222222,\"#7201a8\"],[0.3333333333333333,\"#9c179e\"],[0.4444444444444444,\"#bd3786\"],[0.5555555555555556,\"#d8576b\"],[0.6666666666666666,\"#ed7953\"],[0.7777777777777778,\"#fb9f3a\"],[0.8888888888888888,\"#fdca26\"],[1.0,\"#f0f921\"]]}],\"contourcarpet\":[{\"type\":\"contourcarpet\",\"colorbar\":{\"outlinewidth\":0,\"ticks\":\"\"}}],\"contour\":[{\"type\":\"contour\",\"colorbar\":{\"outlinewidth\":0,\"ticks\":\"\"},\"colorscale\":[[0.0,\"#0d0887\"],[0.1111111111111111,\"#46039f\"],[0.2222222222222222,\"#7201a8\"],[0.3333333333333333,\"#9c179e\"],[0.4444444444444444,\"#bd3786\"],[0.5555555555555556,\"#d8576b\"],[0.6666666666666666,\"#ed7953\"],[0.7777777777777778,\"#fb9f3a\"],[0.8888888888888888,\"#fdca26\"],[1.0,\"#f0f921\"]]}],\"surface\":[{\"type\":\"surface\",\"colorbar\":{\"outlinewidth\":0,\"ticks\":\"\"},\"colorscale\":[[0.0,\"#0d0887\"],[0.1111111111111111,\"#46039f\"],[0.2222222222222222,\"#7201a8\"],[0.3333333333333333,\"#9c179e\"],[0.4444444444444444,\"#bd3786\"],[0.5555555555555556,\"#d8576b\"],[0.6666666666666666,\"#ed7953\"],[0.7777777777777778,\"#fb9f3a\"],[0.8888888888888888,\"#fdca26\"],[1.0,\"#f0f921\"]]}],\"mesh3d\":[{\"type\":\"mesh3d\",\"colorbar\":{\"outlinewidth\":0,\"ticks\":\"\"}}],\"scatter\":[{\"fillpattern\":{\"fillmode\":\"overlay\",\"size\":10,\"solidity\":0.2},\"type\":\"scatter\"}],\"parcoords\":[{\"type\":\"parcoords\",\"line\":{\"colorbar\":{\"outlinewidth\":0,\"ticks\":\"\"}}}],\"scatterpolargl\":[{\"type\":\"scatterpolargl\",\"marker\":{\"colorbar\":{\"outlinewidth\":0,\"ticks\":\"\"}}}],\"bar\":[{\"error_x\":{\"color\":\"#2a3f5f\"},\"error_y\":{\"color\":\"#2a3f5f\"},\"marker\":{\"line\":{\"color\":\"#E5ECF6\",\"width\":0.5},\"pattern\":{\"fillmode\":\"overlay\",\"size\":10,\"solidity\":0.2}},\"type\":\"bar\"}],\"scattergeo\":[{\"type\":\"scattergeo\",\"marker\":{\"colorbar\":{\"outlinewidth\":0,\"ticks\":\"\"}}}],\"scatterpolar\":[{\"type\":\"scatterpolar\",\"marker\":{\"colorbar\":{\"outlinewidth\":0,\"ticks\":\"\"}}}],\"histogram\":[{\"marker\":{\"pattern\":{\"fillmode\":\"overlay\",\"size\":10,\"solidity\":0.2}},\"type\":\"histogram\"}],\"scattergl\":[{\"type\":\"scattergl\",\"marker\":{\"colorbar\":{\"outlinewidth\":0,\"ticks\":\"\"}}}],\"scatter3d\":[{\"type\":\"scatter3d\",\"line\":{\"colorbar\":{\"outlinewidth\":0,\"ticks\":\"\"}},\"marker\":{\"colorbar\":{\"outlinewidth\":0,\"ticks\":\"\"}}}],\"scattermapbox\":[{\"type\":\"scattermapbox\",\"marker\":{\"colorbar\":{\"outlinewidth\":0,\"ticks\":\"\"}}}],\"scatterternary\":[{\"type\":\"scatterternary\",\"marker\":{\"colorbar\":{\"outlinewidth\":0,\"ticks\":\"\"}}}],\"scattercarpet\":[{\"type\":\"scattercarpet\",\"marker\":{\"colorbar\":{\"outlinewidth\":0,\"ticks\":\"\"}}}],\"carpet\":[{\"aaxis\":{\"endlinecolor\":\"#2a3f5f\",\"gridcolor\":\"white\",\"linecolor\":\"white\",\"minorgridcolor\":\"white\",\"startlinecolor\":\"#2a3f5f\"},\"baxis\":{\"endlinecolor\":\"#2a3f5f\",\"gridcolor\":\"white\",\"linecolor\":\"white\",\"minorgridcolor\":\"white\",\"startlinecolor\":\"#2a3f5f\"},\"type\":\"carpet\"}],\"table\":[{\"cells\":{\"fill\":{\"color\":\"#EBF0F8\"},\"line\":{\"color\":\"white\"}},\"header\":{\"fill\":{\"color\":\"#C8D4E3\"},\"line\":{\"color\":\"white\"}},\"type\":\"table\"}],\"barpolar\":[{\"marker\":{\"line\":{\"color\":\"#E5ECF6\",\"width\":0.5},\"pattern\":{\"fillmode\":\"overlay\",\"size\":10,\"solidity\":0.2}},\"type\":\"barpolar\"}],\"pie\":[{\"automargin\":true,\"type\":\"pie\"}]},\"layout\":{\"autotypenumbers\":\"strict\",\"colorway\":[\"#636efa\",\"#EF553B\",\"#00cc96\",\"#ab63fa\",\"#FFA15A\",\"#19d3f3\",\"#FF6692\",\"#B6E880\",\"#FF97FF\",\"#FECB52\"],\"font\":{\"color\":\"#2a3f5f\"},\"hovermode\":\"closest\",\"hoverlabel\":{\"align\":\"left\"},\"paper_bgcolor\":\"white\",\"plot_bgcolor\":\"#E5ECF6\",\"polar\":{\"bgcolor\":\"#E5ECF6\",\"angularaxis\":{\"gridcolor\":\"white\",\"linecolor\":\"white\",\"ticks\":\"\"},\"radialaxis\":{\"gridcolor\":\"white\",\"linecolor\":\"white\",\"ticks\":\"\"}},\"ternary\":{\"bgcolor\":\"#E5ECF6\",\"aaxis\":{\"gridcolor\":\"white\",\"linecolor\":\"white\",\"ticks\":\"\"},\"baxis\":{\"gridcolor\":\"white\",\"linecolor\":\"white\",\"ticks\":\"\"},\"caxis\":{\"gridcolor\":\"white\",\"linecolor\":\"white\",\"ticks\":\"\"}},\"coloraxis\":{\"colorbar\":{\"outlinewidth\":0,\"ticks\":\"\"}},\"colorscale\":{\"sequential\":[[0.0,\"#0d0887\"],[0.1111111111111111,\"#46039f\"],[0.2222222222222222,\"#7201a8\"],[0.3333333333333333,\"#9c179e\"],[0.4444444444444444,\"#bd3786\"],[0.5555555555555556,\"#d8576b\"],[0.6666666666666666,\"#ed7953\"],[0.7777777777777778,\"#fb9f3a\"],[0.8888888888888888,\"#fdca26\"],[1.0,\"#f0f921\"]],\"sequentialminus\":[[0.0,\"#0d0887\"],[0.1111111111111111,\"#46039f\"],[0.2222222222222222,\"#7201a8\"],[0.3333333333333333,\"#9c179e\"],[0.4444444444444444,\"#bd3786\"],[0.5555555555555556,\"#d8576b\"],[0.6666666666666666,\"#ed7953\"],[0.7777777777777778,\"#fb9f3a\"],[0.8888888888888888,\"#fdca26\"],[1.0,\"#f0f921\"]],\"diverging\":[[0,\"#8e0152\"],[0.1,\"#c51b7d\"],[0.2,\"#de77ae\"],[0.3,\"#f1b6da\"],[0.4,\"#fde0ef\"],[0.5,\"#f7f7f7\"],[0.6,\"#e6f5d0\"],[0.7,\"#b8e186\"],[0.8,\"#7fbc41\"],[0.9,\"#4d9221\"],[1,\"#276419\"]]},\"xaxis\":{\"gridcolor\":\"white\",\"linecolor\":\"white\",\"ticks\":\"\",\"title\":{\"standoff\":15},\"zerolinecolor\":\"white\",\"automargin\":true,\"zerolinewidth\":2},\"yaxis\":{\"gridcolor\":\"white\",\"linecolor\":\"white\",\"ticks\":\"\",\"title\":{\"standoff\":15},\"zerolinecolor\":\"white\",\"automargin\":true,\"zerolinewidth\":2},\"scene\":{\"xaxis\":{\"backgroundcolor\":\"#E5ECF6\",\"gridcolor\":\"white\",\"linecolor\":\"white\",\"showbackground\":true,\"ticks\":\"\",\"zerolinecolor\":\"white\",\"gridwidth\":2},\"yaxis\":{\"backgroundcolor\":\"#E5ECF6\",\"gridcolor\":\"white\",\"linecolor\":\"white\",\"showbackground\":true,\"ticks\":\"\",\"zerolinecolor\":\"white\",\"gridwidth\":2},\"zaxis\":{\"backgroundcolor\":\"#E5ECF6\",\"gridcolor\":\"white\",\"linecolor\":\"white\",\"showbackground\":true,\"ticks\":\"\",\"zerolinecolor\":\"white\",\"gridwidth\":2}},\"shapedefaults\":{\"line\":{\"color\":\"#2a3f5f\"}},\"annotationdefaults\":{\"arrowcolor\":\"#2a3f5f\",\"arrowhead\":0,\"arrowwidth\":1},\"geo\":{\"bgcolor\":\"white\",\"landcolor\":\"#E5ECF6\",\"subunitcolor\":\"white\",\"showland\":true,\"showlakes\":true,\"lakecolor\":\"white\"},\"title\":{\"x\":0.05},\"mapbox\":{\"style\":\"light\"}}},\"polar\":{\"radialaxis\":{\"visible\":true,\"range\":[0,1.0]},\"angularaxis\":{\"rotation\":90,\"direction\":\"counterclockwise\"}},\"showlegend\":true,\"width\":1400,\"height\":1000},                        {\"responsive\": true}                    ).then(function(){\n",
       "                            \n",
       "var gd = document.getElementById('cfcbac1b-7ed3-43b3-b8df-bc3a5b54c047');\n",
       "var x = new MutationObserver(function (mutations, observer) {{\n",
       "        var display = window.getComputedStyle(gd).display;\n",
       "        if (!display || display === 'none') {{\n",
       "            console.log([gd, 'removed!']);\n",
       "            Plotly.purge(gd);\n",
       "            observer.disconnect();\n",
       "        }}\n",
       "}});\n",
       "\n",
       "// Listen for the removal of the full notebook cells\n",
       "var notebookContainer = gd.closest('#notebook-container');\n",
       "if (notebookContainer) {{\n",
       "    x.observe(notebookContainer, {childList: true});\n",
       "}}\n",
       "\n",
       "// Listen for the clearing of the current output cell\n",
       "var outputEl = gd.closest('.output');\n",
       "if (outputEl) {{\n",
       "    x.observe(outputEl, {childList: true});\n",
       "}}\n",
       "\n",
       "                        })                };                });            </script>        </div>"
      ]
     },
     "metadata": {},
     "output_type": "display_data"
    }
   ],
   "source": [
    "import plotly.graph_objects as go\n",
    "import pandas as pd\n",
    "\n",
    "# Replace this with your actual dataframe\n",
    "# analytics_for_radar = ...\n",
    "\n",
    "# Select dimensions to plot\n",
    "selected_dimensions = analytics_for_radar.drop(columns='specific_cluster').columns\n",
    "\n",
    "def plot_fighters_radar_chart(data=analytics_for_radar, dimensions=selected_dimensions):\n",
    "    fig = go.Figure()\n",
    "\n",
    "    for specific_cluster in data['specific_cluster'].unique():\n",
    "        cluster_data = data[data['specific_cluster'] == specific_cluster]\n",
    "\n",
    "        fig.add_trace(go.Scatterpolar(\n",
    "            r=cluster_data[dimensions].values.tolist()[0],\n",
    "            theta=dimensions,\n",
    "            fill='toself',\n",
    "            name=specific_cluster,\n",
    "            opacity=0.5,\n",
    "            line=dict(width=0.8)\n",
    "        ))\n",
    "\n",
    "    fig.update_layout(\n",
    "        polar=dict(\n",
    "            radialaxis=dict(\n",
    "                visible=True,\n",
    "                range=[0, data[dimensions].values.astype(float).max()]  # Set the range based on the maximum value in the data\n",
    "            ),\n",
    "            angularaxis=dict(\n",
    "                rotation=90,\n",
    "                direction=\"counterclockwise\"\n",
    "            ),\n",
    "        ),\n",
    "        showlegend=True,\n",
    "        width=1400,\n",
    "        height=1000\n",
    "    )\n",
    "\n",
    "    fig.show()\n",
    "\n",
    "plot_fighters_radar_chart()\n"
   ]
  },
  {
   "cell_type": "code",
   "execution_count": null,
   "id": "c5f785e8-1f56-4e6b-a64f-177da8fbd521",
   "metadata": {},
   "outputs": [],
   "source": []
  }
 ],
 "metadata": {
  "kernelspec": {
   "display_name": "Python 3 (ipykernel)",
   "language": "python",
   "name": "python3"
  },
  "language_info": {
   "codemirror_mode": {
    "name": "ipython",
    "version": 3
   },
   "file_extension": ".py",
   "mimetype": "text/x-python",
   "name": "python",
   "nbconvert_exporter": "python",
   "pygments_lexer": "ipython3",
   "version": "3.9.16"
  }
 },
 "nbformat": 4,
 "nbformat_minor": 5
}
