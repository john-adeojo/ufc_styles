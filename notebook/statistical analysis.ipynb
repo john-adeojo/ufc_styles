{
 "cells": [
  {
   "cell_type": "code",
   "execution_count": 54,
   "id": "d060f428-717b-471c-9f4d-ff5b5193930d",
   "metadata": {
    "tags": []
   },
   "outputs": [],
   "source": [
    "import os\n",
    "import sys\n",
    "notebook_dir = os.path.dirname(os.path.abspath(\"__file__\"))\n",
    "project_dir = os.path.dirname(notebook_dir)\n",
    "\n",
    "if project_dir not in sys.path:\n",
    "    sys.path.append(project_dir)\n",
    "\n",
    "import pandas as pd\n",
    "import numpy as np"
   ]
  },
  {
   "cell_type": "code",
   "execution_count": 65,
   "id": "9cff3115-a817-4c80-b08e-696764bebceb",
   "metadata": {
    "scrolled": true,
    "tags": []
   },
   "outputs": [],
   "source": [
    "all_fighter_cluster = pd.read_csv(r\"https://raw.githubusercontent.com/john-adeojo/ufc_styles/main/data/02_intermediate/all_fighter_clusters.csv\")\n",
    "fighter_data = pd.read_csv(r\"https://github.com/john-adeojo/ufc_styles/blob/main/data/02_intermediate/fighter_data.csv?raw=true\")"
   ]
  },
  {
   "cell_type": "code",
   "execution_count": 72,
   "id": "07446ad6-77f2-42e3-bd79-81c28c2be7b5",
   "metadata": {
    "tags": []
   },
   "outputs": [
    {
     "name": "stdout",
     "output_type": "stream",
     "text": [
      "<class 'pandas.core.frame.DataFrame'>\n",
      "Int64Index: 5478 entries, 0 to 5654\n",
      "Data columns (total 82 columns):\n",
      " #   Column                      Non-Null Count  Dtype  \n",
      "---  ------                      --------------  -----  \n",
      " 0   Unnamed: 0                  5478 non-null   int64  \n",
      " 1   R_fighter                   5478 non-null   object \n",
      " 2   B_fighter                   5478 non-null   object \n",
      " 3   date                        5478 non-null   object \n",
      " 4   Winner                      5478 non-null   object \n",
      " 5   weight_class                5478 non-null   object \n",
      " 6   avg_KD                      5478 non-null   float64\n",
      " 7   avg_opp_KD                  5478 non-null   float64\n",
      " 8   avg_SUB_ATT                 5478 non-null   float64\n",
      " 9   avg_opp_SUB_ATT             5478 non-null   float64\n",
      " 10  avg_REV                     5478 non-null   float64\n",
      " 11  avg_opp_REV                 5478 non-null   float64\n",
      " 12  avg_SIG_STR_att             5478 non-null   float64\n",
      " 13  avg_SIG_STR_landed          5478 non-null   float64\n",
      " 14  avg_opp_SIG_STR_att         5478 non-null   float64\n",
      " 15  avg_opp_SIG_STR_landed      5478 non-null   float64\n",
      " 16  avg_TOTAL_STR_att           5478 non-null   float64\n",
      " 17  avg_TOTAL_STR_landed        5478 non-null   float64\n",
      " 18  avg_opp_TOTAL_STR_att       5478 non-null   float64\n",
      " 19  avg_opp_TOTAL_STR_landed    5478 non-null   float64\n",
      " 20  avg_TD_att                  5478 non-null   float64\n",
      " 21  avg_TD_landed               5478 non-null   float64\n",
      " 22  avg_opp_TD_att              5478 non-null   float64\n",
      " 23  avg_opp_TD_landed           5478 non-null   float64\n",
      " 24  avg_HEAD_att                5478 non-null   float64\n",
      " 25  avg_HEAD_landed             5478 non-null   float64\n",
      " 26  avg_opp_HEAD_att            5478 non-null   float64\n",
      " 27  avg_opp_HEAD_landed         5478 non-null   float64\n",
      " 28  avg_BODY_att                5478 non-null   float64\n",
      " 29  avg_BODY_landed             5478 non-null   float64\n",
      " 30  avg_opp_BODY_att            5478 non-null   float64\n",
      " 31  avg_opp_BODY_landed         5478 non-null   float64\n",
      " 32  avg_LEG_att                 5478 non-null   float64\n",
      " 33  avg_LEG_landed              5478 non-null   float64\n",
      " 34  avg_opp_LEG_att             5478 non-null   float64\n",
      " 35  avg_opp_LEG_landed          5478 non-null   float64\n",
      " 36  avg_DISTANCE_att            5478 non-null   float64\n",
      " 37  avg_DISTANCE_landed         5478 non-null   float64\n",
      " 38  avg_opp_DISTANCE_att        5478 non-null   float64\n",
      " 39  avg_opp_DISTANCE_landed     5478 non-null   float64\n",
      " 40  avg_CLINCH_att              5478 non-null   float64\n",
      " 41  avg_CLINCH_landed           5478 non-null   float64\n",
      " 42  avg_opp_CLINCH_att          5478 non-null   float64\n",
      " 43  avg_opp_CLINCH_landed       5478 non-null   float64\n",
      " 44  avg_GROUND_att              5478 non-null   float64\n",
      " 45  avg_GROUND_landed           5478 non-null   float64\n",
      " 46  avg_opp_GROUND_att          5478 non-null   float64\n",
      " 47  avg_opp_GROUND_landed       5478 non-null   float64\n",
      " 48  avg_CTRL_time(seconds)      5478 non-null   float64\n",
      " 49  avg_opp_CTRL_time(seconds)  5478 non-null   float64\n",
      " 50  total_time_fought(seconds)  5478 non-null   float64\n",
      " 51  total_rounds_fought         5478 non-null   int64  \n",
      " 52  total_title_bouts           5478 non-null   int64  \n",
      " 53  current_win_streak          5478 non-null   int64  \n",
      " 54  current_lose_streak         5478 non-null   int64  \n",
      " 55  longest_win_streak          5478 non-null   int64  \n",
      " 56  wins                        5478 non-null   int64  \n",
      " 57  losses                      5478 non-null   int64  \n",
      " 58  draw                        5478 non-null   int64  \n",
      " 59  win_by_Decision_Majority    5478 non-null   float64\n",
      " 60  win_by_Decision_Split       5478 non-null   float64\n",
      " 61  win_by_Decision_Unanimous   5478 non-null   float64\n",
      " 62  win_by_KO/TKO               5478 non-null   float64\n",
      " 63  win_by_Submission           5478 non-null   float64\n",
      " 64  win_by_TKO_Doctor_Stoppage  5478 non-null   float64\n",
      " 65  Height_cms                  5478 non-null   float64\n",
      " 66  Reach_cms                   5478 non-null   float64\n",
      " 67  Weight_lbs                  5478 non-null   float64\n",
      " 68  result                      5478 non-null   object \n",
      " 69  Fighter_dims                5478 non-null   object \n",
      " 70  Opponent                    5478 non-null   object \n",
      " 71  Stance_Open Stance          5478 non-null   float64\n",
      " 72  Stance_Orthodox             5478 non-null   float64\n",
      " 73  Stance_Sideways             5478 non-null   float64\n",
      " 74  Stance_Southpaw             5478 non-null   float64\n",
      " 75  Stance_Switch               5478 non-null   float64\n",
      " 76  Stance_nan                  5478 non-null   float64\n",
      " 77  fighter                     5478 non-null   object \n",
      " 78  method                      5478 non-null   object \n",
      " 79  fighter_result              5478 non-null   object \n",
      " 80  cluster                     5478 non-null   float64\n",
      " 81  specific_cluster            5478 non-null   object \n",
      "dtypes: float64(61), int64(9), object(12)\n",
      "memory usage: 3.5+ MB\n"
     ]
    }
   ],
   "source": [
    "analysis_data_base.info()"
   ]
  },
  {
   "cell_type": "code",
   "execution_count": 71,
   "id": "1c3ba76c-9094-45df-8d44-45d14b424a02",
   "metadata": {
    "tags": []
   },
   "outputs": [
    {
     "ename": "KeyError",
     "evalue": "'B_fighter'",
     "output_type": "error",
     "traceback": [
      "\u001b[1;31m---------------------------------------------------------------------------\u001b[0m",
      "\u001b[1;31mKeyError\u001b[0m                                  Traceback (most recent call last)",
      "Cell \u001b[1;32mIn[71], line 5\u001b[0m\n\u001b[0;32m      3\u001b[0m analysis_data_opp \u001b[38;5;241m=\u001b[39m analysis_data_base\u001b[38;5;241m.\u001b[39mcopy()\n\u001b[0;32m      4\u001b[0m analysis_data_opp[\u001b[38;5;124m'\u001b[39m\u001b[38;5;124mopp_specific_cluster\u001b[39m\u001b[38;5;124m'\u001b[39m] \u001b[38;5;241m=\u001b[39m analysis_data_opp[\u001b[38;5;124m'\u001b[39m\u001b[38;5;124mspecific_cluster\u001b[39m\u001b[38;5;124m'\u001b[39m]\n\u001b[1;32m----> 5\u001b[0m analysis_data \u001b[38;5;241m=\u001b[39m \u001b[43manalysis_data_base\u001b[49m\u001b[38;5;241;43m.\u001b[39;49m\u001b[43mmerge\u001b[49m\u001b[43m(\u001b[49m\u001b[43mright\u001b[49m\u001b[38;5;241;43m=\u001b[39;49m\u001b[43manalysis_data_opp\u001b[49m\u001b[43m[\u001b[49m\u001b[43m[\u001b[49m\u001b[38;5;124;43m'\u001b[39;49m\u001b[38;5;124;43mweight_class\u001b[39;49m\u001b[38;5;124;43m'\u001b[39;49m\u001b[43m,\u001b[49m\u001b[43m \u001b[49m\u001b[38;5;124;43m'\u001b[39;49m\u001b[38;5;124;43mFighter_dims\u001b[39;49m\u001b[38;5;124;43m'\u001b[39;49m\u001b[43m,\u001b[49m\u001b[43m \u001b[49m\u001b[38;5;124;43m'\u001b[39;49m\u001b[38;5;124;43mdate\u001b[39;49m\u001b[38;5;124;43m'\u001b[39;49m\u001b[43m,\u001b[49m\u001b[43m \u001b[49m\u001b[38;5;124;43m'\u001b[39;49m\u001b[38;5;124;43mopp_specific_cluster\u001b[39;49m\u001b[38;5;124;43m'\u001b[39;49m\u001b[43m]\u001b[49m\u001b[43m]\u001b[49m\u001b[43m,\u001b[49m\u001b[43m \u001b[49m\u001b[43mhow\u001b[49m\u001b[38;5;241;43m=\u001b[39;49m\u001b[38;5;124;43m'\u001b[39;49m\u001b[38;5;124;43minner\u001b[39;49m\u001b[38;5;124;43m'\u001b[39;49m\u001b[43m,\u001b[49m\u001b[43m \u001b[49m\u001b[43mleft_on\u001b[49m\u001b[38;5;241;43m=\u001b[39;49m\u001b[43m[\u001b[49m\u001b[38;5;124;43m'\u001b[39;49m\u001b[38;5;124;43mweight_class\u001b[39;49m\u001b[38;5;124;43m'\u001b[39;49m\u001b[43m,\u001b[49m\u001b[43m \u001b[49m\u001b[38;5;124;43m'\u001b[39;49m\u001b[38;5;124;43mOpponent\u001b[39;49m\u001b[38;5;124;43m'\u001b[39;49m\u001b[43m,\u001b[49m\u001b[43m \u001b[49m\u001b[38;5;124;43m'\u001b[39;49m\u001b[38;5;124;43mdate\u001b[39;49m\u001b[38;5;124;43m'\u001b[39;49m\u001b[43m]\u001b[49m\u001b[43m,\u001b[49m\u001b[43m \u001b[49m\u001b[43mright_on\u001b[49m\u001b[38;5;241;43m=\u001b[39;49m\u001b[43m[\u001b[49m\u001b[38;5;124;43m'\u001b[39;49m\u001b[38;5;124;43mweight_class\u001b[39;49m\u001b[38;5;124;43m'\u001b[39;49m\u001b[43m,\u001b[49m\u001b[43m \u001b[49m\u001b[38;5;124;43m'\u001b[39;49m\u001b[38;5;124;43mB_fighter\u001b[39;49m\u001b[38;5;124;43m'\u001b[39;49m\u001b[43m,\u001b[49m\u001b[43m \u001b[49m\u001b[38;5;124;43m'\u001b[39;49m\u001b[38;5;124;43mdate\u001b[39;49m\u001b[38;5;124;43m'\u001b[39;49m\u001b[43m]\u001b[49m\u001b[43m \u001b[49m\u001b[43m)\u001b[49m\n\u001b[0;32m      6\u001b[0m analysis_data_opposing_styles \u001b[38;5;241m=\u001b[39m analysis_data\u001b[38;5;241m.\u001b[39mloc[analysis_data[\u001b[38;5;124m'\u001b[39m\u001b[38;5;124mopp_specific_cluster\u001b[39m\u001b[38;5;124m'\u001b[39m] \u001b[38;5;241m!=\u001b[39m analysis_data[\u001b[38;5;124m'\u001b[39m\u001b[38;5;124mspecific_cluster\u001b[39m\u001b[38;5;124m'\u001b[39m]]\u001b[38;5;241m.\u001b[39mcopy()\n\u001b[0;32m      7\u001b[0m analysis_data_opposing_styles\u001b[38;5;241m.\u001b[39mhead()\n",
      "File \u001b[1;32m~\\anaconda3\\envs\\ufc-env\\lib\\site-packages\\pandas\\core\\frame.py:10090\u001b[0m, in \u001b[0;36mDataFrame.merge\u001b[1;34m(self, right, how, on, left_on, right_on, left_index, right_index, sort, suffixes, copy, indicator, validate)\u001b[0m\n\u001b[0;32m  10071\u001b[0m \u001b[38;5;129m@Substitution\u001b[39m(\u001b[38;5;124m\"\u001b[39m\u001b[38;5;124m\"\u001b[39m)\n\u001b[0;32m  10072\u001b[0m \u001b[38;5;129m@Appender\u001b[39m(_merge_doc, indents\u001b[38;5;241m=\u001b[39m\u001b[38;5;241m2\u001b[39m)\n\u001b[0;32m  10073\u001b[0m \u001b[38;5;28;01mdef\u001b[39;00m \u001b[38;5;21mmerge\u001b[39m(\n\u001b[1;32m   (...)\u001b[0m\n\u001b[0;32m  10086\u001b[0m     validate: \u001b[38;5;28mstr\u001b[39m \u001b[38;5;241m|\u001b[39m \u001b[38;5;28;01mNone\u001b[39;00m \u001b[38;5;241m=\u001b[39m \u001b[38;5;28;01mNone\u001b[39;00m,\n\u001b[0;32m  10087\u001b[0m ) \u001b[38;5;241m-\u001b[39m\u001b[38;5;241m>\u001b[39m DataFrame:\n\u001b[0;32m  10088\u001b[0m     \u001b[38;5;28;01mfrom\u001b[39;00m \u001b[38;5;21;01mpandas\u001b[39;00m\u001b[38;5;21;01m.\u001b[39;00m\u001b[38;5;21;01mcore\u001b[39;00m\u001b[38;5;21;01m.\u001b[39;00m\u001b[38;5;21;01mreshape\u001b[39;00m\u001b[38;5;21;01m.\u001b[39;00m\u001b[38;5;21;01mmerge\u001b[39;00m \u001b[38;5;28;01mimport\u001b[39;00m merge\n\u001b[1;32m> 10090\u001b[0m     \u001b[38;5;28;01mreturn\u001b[39;00m \u001b[43mmerge\u001b[49m\u001b[43m(\u001b[49m\n\u001b[0;32m  10091\u001b[0m \u001b[43m        \u001b[49m\u001b[38;5;28;43mself\u001b[39;49m\u001b[43m,\u001b[49m\n\u001b[0;32m  10092\u001b[0m \u001b[43m        \u001b[49m\u001b[43mright\u001b[49m\u001b[43m,\u001b[49m\n\u001b[0;32m  10093\u001b[0m \u001b[43m        \u001b[49m\u001b[43mhow\u001b[49m\u001b[38;5;241;43m=\u001b[39;49m\u001b[43mhow\u001b[49m\u001b[43m,\u001b[49m\n\u001b[0;32m  10094\u001b[0m \u001b[43m        \u001b[49m\u001b[43mon\u001b[49m\u001b[38;5;241;43m=\u001b[39;49m\u001b[43mon\u001b[49m\u001b[43m,\u001b[49m\n\u001b[0;32m  10095\u001b[0m \u001b[43m        \u001b[49m\u001b[43mleft_on\u001b[49m\u001b[38;5;241;43m=\u001b[39;49m\u001b[43mleft_on\u001b[49m\u001b[43m,\u001b[49m\n\u001b[0;32m  10096\u001b[0m \u001b[43m        \u001b[49m\u001b[43mright_on\u001b[49m\u001b[38;5;241;43m=\u001b[39;49m\u001b[43mright_on\u001b[49m\u001b[43m,\u001b[49m\n\u001b[0;32m  10097\u001b[0m \u001b[43m        \u001b[49m\u001b[43mleft_index\u001b[49m\u001b[38;5;241;43m=\u001b[39;49m\u001b[43mleft_index\u001b[49m\u001b[43m,\u001b[49m\n\u001b[0;32m  10098\u001b[0m \u001b[43m        \u001b[49m\u001b[43mright_index\u001b[49m\u001b[38;5;241;43m=\u001b[39;49m\u001b[43mright_index\u001b[49m\u001b[43m,\u001b[49m\n\u001b[0;32m  10099\u001b[0m \u001b[43m        \u001b[49m\u001b[43msort\u001b[49m\u001b[38;5;241;43m=\u001b[39;49m\u001b[43msort\u001b[49m\u001b[43m,\u001b[49m\n\u001b[0;32m  10100\u001b[0m \u001b[43m        \u001b[49m\u001b[43msuffixes\u001b[49m\u001b[38;5;241;43m=\u001b[39;49m\u001b[43msuffixes\u001b[49m\u001b[43m,\u001b[49m\n\u001b[0;32m  10101\u001b[0m \u001b[43m        \u001b[49m\u001b[43mcopy\u001b[49m\u001b[38;5;241;43m=\u001b[39;49m\u001b[43mcopy\u001b[49m\u001b[43m,\u001b[49m\n\u001b[0;32m  10102\u001b[0m \u001b[43m        \u001b[49m\u001b[43mindicator\u001b[49m\u001b[38;5;241;43m=\u001b[39;49m\u001b[43mindicator\u001b[49m\u001b[43m,\u001b[49m\n\u001b[0;32m  10103\u001b[0m \u001b[43m        \u001b[49m\u001b[43mvalidate\u001b[49m\u001b[38;5;241;43m=\u001b[39;49m\u001b[43mvalidate\u001b[49m\u001b[43m,\u001b[49m\n\u001b[0;32m  10104\u001b[0m \u001b[43m    \u001b[49m\u001b[43m)\u001b[49m\n",
      "File \u001b[1;32m~\\anaconda3\\envs\\ufc-env\\lib\\site-packages\\pandas\\core\\reshape\\merge.py:110\u001b[0m, in \u001b[0;36mmerge\u001b[1;34m(left, right, how, on, left_on, right_on, left_index, right_index, sort, suffixes, copy, indicator, validate)\u001b[0m\n\u001b[0;32m     93\u001b[0m \u001b[38;5;129m@Substitution\u001b[39m(\u001b[38;5;124m\"\u001b[39m\u001b[38;5;130;01m\\n\u001b[39;00m\u001b[38;5;124mleft : DataFrame or named Series\u001b[39m\u001b[38;5;124m\"\u001b[39m)\n\u001b[0;32m     94\u001b[0m \u001b[38;5;129m@Appender\u001b[39m(_merge_doc, indents\u001b[38;5;241m=\u001b[39m\u001b[38;5;241m0\u001b[39m)\n\u001b[0;32m     95\u001b[0m \u001b[38;5;28;01mdef\u001b[39;00m \u001b[38;5;21mmerge\u001b[39m(\n\u001b[1;32m   (...)\u001b[0m\n\u001b[0;32m    108\u001b[0m     validate: \u001b[38;5;28mstr\u001b[39m \u001b[38;5;241m|\u001b[39m \u001b[38;5;28;01mNone\u001b[39;00m \u001b[38;5;241m=\u001b[39m \u001b[38;5;28;01mNone\u001b[39;00m,\n\u001b[0;32m    109\u001b[0m ) \u001b[38;5;241m-\u001b[39m\u001b[38;5;241m>\u001b[39m DataFrame:\n\u001b[1;32m--> 110\u001b[0m     op \u001b[38;5;241m=\u001b[39m \u001b[43m_MergeOperation\u001b[49m\u001b[43m(\u001b[49m\n\u001b[0;32m    111\u001b[0m \u001b[43m        \u001b[49m\u001b[43mleft\u001b[49m\u001b[43m,\u001b[49m\n\u001b[0;32m    112\u001b[0m \u001b[43m        \u001b[49m\u001b[43mright\u001b[49m\u001b[43m,\u001b[49m\n\u001b[0;32m    113\u001b[0m \u001b[43m        \u001b[49m\u001b[43mhow\u001b[49m\u001b[38;5;241;43m=\u001b[39;49m\u001b[43mhow\u001b[49m\u001b[43m,\u001b[49m\n\u001b[0;32m    114\u001b[0m \u001b[43m        \u001b[49m\u001b[43mon\u001b[49m\u001b[38;5;241;43m=\u001b[39;49m\u001b[43mon\u001b[49m\u001b[43m,\u001b[49m\n\u001b[0;32m    115\u001b[0m \u001b[43m        \u001b[49m\u001b[43mleft_on\u001b[49m\u001b[38;5;241;43m=\u001b[39;49m\u001b[43mleft_on\u001b[49m\u001b[43m,\u001b[49m\n\u001b[0;32m    116\u001b[0m \u001b[43m        \u001b[49m\u001b[43mright_on\u001b[49m\u001b[38;5;241;43m=\u001b[39;49m\u001b[43mright_on\u001b[49m\u001b[43m,\u001b[49m\n\u001b[0;32m    117\u001b[0m \u001b[43m        \u001b[49m\u001b[43mleft_index\u001b[49m\u001b[38;5;241;43m=\u001b[39;49m\u001b[43mleft_index\u001b[49m\u001b[43m,\u001b[49m\n\u001b[0;32m    118\u001b[0m \u001b[43m        \u001b[49m\u001b[43mright_index\u001b[49m\u001b[38;5;241;43m=\u001b[39;49m\u001b[43mright_index\u001b[49m\u001b[43m,\u001b[49m\n\u001b[0;32m    119\u001b[0m \u001b[43m        \u001b[49m\u001b[43msort\u001b[49m\u001b[38;5;241;43m=\u001b[39;49m\u001b[43msort\u001b[49m\u001b[43m,\u001b[49m\n\u001b[0;32m    120\u001b[0m \u001b[43m        \u001b[49m\u001b[43msuffixes\u001b[49m\u001b[38;5;241;43m=\u001b[39;49m\u001b[43msuffixes\u001b[49m\u001b[43m,\u001b[49m\n\u001b[0;32m    121\u001b[0m \u001b[43m        \u001b[49m\u001b[43mindicator\u001b[49m\u001b[38;5;241;43m=\u001b[39;49m\u001b[43mindicator\u001b[49m\u001b[43m,\u001b[49m\n\u001b[0;32m    122\u001b[0m \u001b[43m        \u001b[49m\u001b[43mvalidate\u001b[49m\u001b[38;5;241;43m=\u001b[39;49m\u001b[43mvalidate\u001b[49m\u001b[43m,\u001b[49m\n\u001b[0;32m    123\u001b[0m \u001b[43m    \u001b[49m\u001b[43m)\u001b[49m\n\u001b[0;32m    124\u001b[0m     \u001b[38;5;28;01mreturn\u001b[39;00m op\u001b[38;5;241m.\u001b[39mget_result(copy\u001b[38;5;241m=\u001b[39mcopy)\n",
      "File \u001b[1;32m~\\anaconda3\\envs\\ufc-env\\lib\\site-packages\\pandas\\core\\reshape\\merge.py:703\u001b[0m, in \u001b[0;36m_MergeOperation.__init__\u001b[1;34m(self, left, right, how, on, left_on, right_on, axis, left_index, right_index, sort, suffixes, indicator, validate)\u001b[0m\n\u001b[0;32m    696\u001b[0m \u001b[38;5;28mself\u001b[39m\u001b[38;5;241m.\u001b[39m_cross \u001b[38;5;241m=\u001b[39m cross_col\n\u001b[0;32m    698\u001b[0m \u001b[38;5;66;03m# note this function has side effects\u001b[39;00m\n\u001b[0;32m    699\u001b[0m (\n\u001b[0;32m    700\u001b[0m     \u001b[38;5;28mself\u001b[39m\u001b[38;5;241m.\u001b[39mleft_join_keys,\n\u001b[0;32m    701\u001b[0m     \u001b[38;5;28mself\u001b[39m\u001b[38;5;241m.\u001b[39mright_join_keys,\n\u001b[0;32m    702\u001b[0m     \u001b[38;5;28mself\u001b[39m\u001b[38;5;241m.\u001b[39mjoin_names,\n\u001b[1;32m--> 703\u001b[0m ) \u001b[38;5;241m=\u001b[39m \u001b[38;5;28;43mself\u001b[39;49m\u001b[38;5;241;43m.\u001b[39;49m\u001b[43m_get_merge_keys\u001b[49m\u001b[43m(\u001b[49m\u001b[43m)\u001b[49m\n\u001b[0;32m    705\u001b[0m \u001b[38;5;66;03m# validate the merge keys dtypes. We may need to coerce\u001b[39;00m\n\u001b[0;32m    706\u001b[0m \u001b[38;5;66;03m# to avoid incompatible dtypes\u001b[39;00m\n\u001b[0;32m    707\u001b[0m \u001b[38;5;28mself\u001b[39m\u001b[38;5;241m.\u001b[39m_maybe_coerce_merge_keys()\n",
      "File \u001b[1;32m~\\anaconda3\\envs\\ufc-env\\lib\\site-packages\\pandas\\core\\reshape\\merge.py:1162\u001b[0m, in \u001b[0;36m_MergeOperation._get_merge_keys\u001b[1;34m(self)\u001b[0m\n\u001b[0;32m   1160\u001b[0m rk \u001b[38;5;241m=\u001b[39m cast(Hashable, rk)\n\u001b[0;32m   1161\u001b[0m \u001b[38;5;28;01mif\u001b[39;00m rk \u001b[38;5;129;01mis\u001b[39;00m \u001b[38;5;129;01mnot\u001b[39;00m \u001b[38;5;28;01mNone\u001b[39;00m:\n\u001b[1;32m-> 1162\u001b[0m     right_keys\u001b[38;5;241m.\u001b[39mappend(\u001b[43mright\u001b[49m\u001b[38;5;241;43m.\u001b[39;49m\u001b[43m_get_label_or_level_values\u001b[49m\u001b[43m(\u001b[49m\u001b[43mrk\u001b[49m\u001b[43m)\u001b[49m)\n\u001b[0;32m   1163\u001b[0m \u001b[38;5;28;01melse\u001b[39;00m:\n\u001b[0;32m   1164\u001b[0m     \u001b[38;5;66;03m# work-around for merge_asof(right_index=True)\u001b[39;00m\n\u001b[0;32m   1165\u001b[0m     right_keys\u001b[38;5;241m.\u001b[39mappend(right\u001b[38;5;241m.\u001b[39mindex)\n",
      "File \u001b[1;32m~\\anaconda3\\envs\\ufc-env\\lib\\site-packages\\pandas\\core\\generic.py:1850\u001b[0m, in \u001b[0;36mNDFrame._get_label_or_level_values\u001b[1;34m(self, key, axis)\u001b[0m\n\u001b[0;32m   1844\u001b[0m     values \u001b[38;5;241m=\u001b[39m (\n\u001b[0;32m   1845\u001b[0m         \u001b[38;5;28mself\u001b[39m\u001b[38;5;241m.\u001b[39maxes[axis]\n\u001b[0;32m   1846\u001b[0m         \u001b[38;5;241m.\u001b[39mget_level_values(key)  \u001b[38;5;66;03m# type: ignore[assignment]\u001b[39;00m\n\u001b[0;32m   1847\u001b[0m         \u001b[38;5;241m.\u001b[39m_values\n\u001b[0;32m   1848\u001b[0m     )\n\u001b[0;32m   1849\u001b[0m \u001b[38;5;28;01melse\u001b[39;00m:\n\u001b[1;32m-> 1850\u001b[0m     \u001b[38;5;28;01mraise\u001b[39;00m \u001b[38;5;167;01mKeyError\u001b[39;00m(key)\n\u001b[0;32m   1852\u001b[0m \u001b[38;5;66;03m# Check for duplicates\u001b[39;00m\n\u001b[0;32m   1853\u001b[0m \u001b[38;5;28;01mif\u001b[39;00m values\u001b[38;5;241m.\u001b[39mndim \u001b[38;5;241m>\u001b[39m \u001b[38;5;241m1\u001b[39m:\n",
      "\u001b[1;31mKeyError\u001b[0m: 'B_fighter'"
     ]
    }
   ],
   "source": [
    "analysis_data_base = fighter_data.merge(right=all_fighter_cluster[['cluster','specific_cluster', 'Fighter_dims', 'weight_class']], how='left', left_on=['Fighter_dims', 'weight_class'], right_on=['Fighter_dims', 'weight_class'])\n",
    "analysis_data_base = analysis_data_base.dropna(subset=['cluster'])\n",
    "analysis_data_opp = analysis_data_base.copy()\n",
    "analysis_data_opp['opp_specific_cluster'] = analysis_data_opp['specific_cluster']\n",
    "analysis_data = analysis_data_base.merge(right=analysis_data_opp[['weight_class', 'Fighter_dims', 'date', 'opp_specific_cluster']], how='inner', left_on=['weight_class', 'Opponent', 'date'], right_on=['weight_class', 'Fighter_dims', 'date'] )\n",
    "analysis_data_opposing_styles = analysis_data.loc[analysis_data['opp_specific_cluster'] != analysis_data['specific_cluster']].copy()\n",
    "analysis_data_opposing_styles.head()"
   ]
  },
  {
   "cell_type": "code",
   "execution_count": 39,
   "id": "3c14835c-5e04-4393-910d-4a9339566203",
   "metadata": {
    "tags": []
   },
   "outputs": [],
   "source": [
    "import pandas as pd\n",
    "\n",
    "# Assuming your DataFrame is named 'analysis_data_opposing_styles'\n",
    "# and the columns to combine are 'specific_cluster' and 'opp_specific_cluster'\n",
    "\n",
    "def create_style_matchup(row):\n",
    "    # Combine the two columns and sort them alphabetically\n",
    "    matchup = sorted([row['specific_cluster'], row['opp_specific_cluster']])\n",
    "    \n",
    "    # Join them with ' vs. ' and return the result\n",
    "    return matchup[0] + ' vs. ' + matchup[1]\n",
    "\n",
    "# Apply the custom function to each row and create the new 'style_matchup' column\n",
    "analysis_data_opposing_styles['style_matchup'] = analysis_data_opposing_styles.apply(create_style_matchup, axis=1)\n",
    "\n",
    "# Display the DataFrame\n",
    "analysis_data_opposing_styles.sort_values(by='weight_class', inplace=True)\n"
   ]
  },
  {
   "cell_type": "code",
   "execution_count": 40,
   "id": "a82210f2-ca10-423d-a2b3-6ae0967daa15",
   "metadata": {
    "tags": []
   },
   "outputs": [
    {
     "data": {
      "text/plain": [
       "1_Lightweight vs. 2_Lightweight                558\n",
       "1_Welterweight vs. 2_Welterweight              460\n",
       "1_Middleweight vs. 2_Middleweight              424\n",
       "1_LightHeavyweight vs. 2_LightHeavyweight      228\n",
       "0_Featherweight vs. 2_Featherweight            202\n",
       "1_Bantamweight vs. 3_Bantamweight              170\n",
       "1_Heavyweight vs. 2_Heavyweight                152\n",
       "0_Flyweight vs. 2_Flyweight                    134\n",
       "0_Featherweight vs. 1_Featherweight            114\n",
       "0_Welterweight vs. 2_Welterweight              100\n",
       "0_Bantamweight vs. 3_Bantamweight               94\n",
       "0_WomenFlyweight vs. 1_WomenFlyweight           84\n",
       "0_Lightweight vs. 2_Lightweight                 70\n",
       "0_WomenStrawweight vs. 1_WomenStrawweight       58\n",
       "0_Welterweight vs. 1_Welterweight               54\n",
       "0_Middleweight vs. 2_Middleweight               48\n",
       "0_WomenBantamweight vs. 1_WomenBantamweight     44\n",
       "0_Lightweight vs. 1_Lightweight                 42\n",
       "0_Middleweight vs. 1_Middleweight               30\n",
       "0_Heavyweight vs. 2_Heavyweight                 28\n",
       "1_Flyweight vs. 2_Flyweight                     28\n",
       "0_CatchWeight vs. 2_CatchWeight                 26\n",
       "0_Bantamweight vs. 1_Bantamweight               22\n",
       "0_LightHeavyweight vs. 1_LightHeavyweight       16\n",
       "0_Flyweight vs. 1_Flyweight                     14\n",
       "1_Featherweight vs. 2_Featherweight             12\n",
       "0_LightHeavyweight vs. 2_LightHeavyweight       10\n",
       "0_CatchWeight vs. 1_CatchWeight                  8\n",
       "1_CatchWeight vs. 2_CatchWeight                  4\n",
       "0_Heavyweight vs. 1_Heavyweight                  2\n",
       "Name: style_matchup, dtype: int64"
      ]
     },
     "execution_count": 40,
     "metadata": {},
     "output_type": "execute_result"
    }
   ],
   "source": [
    "analysis_data_opposing_styles['style_matchup'].value_counts()"
   ]
  },
  {
   "cell_type": "code",
   "execution_count": null,
   "id": "e6c17588-d99c-447b-8fdb-c61cac2760cc",
   "metadata": {},
   "outputs": [],
   "source": [
    "from scripts.chisquareanalysis import ChiSquareAnalysis\n",
    "\n",
    "# Assuming you have a DataFrame named 'data'\n",
    "analysis = ChiSquareAnalysis(analysis_data)\n",
    "result = analysis.run_chisquare_analysis('variable_name')  # Replace 'variable_name' with the actual variable name\n",
    "\n"
   ]
  }
 ],
 "metadata": {
  "kernelspec": {
   "display_name": "Python 3 (ipykernel)",
   "language": "python",
   "name": "python3"
  },
  "language_info": {
   "codemirror_mode": {
    "name": "ipython",
    "version": 3
   },
   "file_extension": ".py",
   "mimetype": "text/x-python",
   "name": "python",
   "nbconvert_exporter": "python",
   "pygments_lexer": "ipython3",
   "version": "3.9.16"
  }
 },
 "nbformat": 4,
 "nbformat_minor": 5
}
